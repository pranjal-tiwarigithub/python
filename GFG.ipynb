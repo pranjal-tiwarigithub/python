{
  "nbformat": 4,
  "nbformat_minor": 0,
  "metadata": {
    "colab": {
      "provenance": [],
      "authorship_tag": "ABX9TyOGxolgmeHivnwQx9DDO1re",
      "include_colab_link": true
    },
    "kernelspec": {
      "name": "python3",
      "display_name": "Python 3"
    },
    "language_info": {
      "name": "python"
    }
  },
  "cells": [
    {
      "cell_type": "markdown",
      "metadata": {
        "id": "view-in-github",
        "colab_type": "text"
      },
      "source": [
        "<a href=\"https://colab.research.google.com/github/pranjal-tiwarigithub/python/blob/main/GFG.ipynb\" target=\"_parent\"><img src=\"https://colab.research.google.com/assets/colab-badge.svg\" alt=\"Open In Colab\"/></a>"
      ]
    },
    {
      "cell_type": "code",
      "execution_count": 2,
      "metadata": {
        "id": "qQ-GyO_5OzUV"
      },
      "outputs": [],
      "source": [
        "import sys\n"
      ]
    },
    {
      "cell_type": "code",
      "source": [
        "#User function Template for python3\n",
        "'''\n",
        "\t\t# Node Class\n",
        "\t\tclass Node:\n",
        "\t\t    def __init__(self, data):   # data -> value stored in node\n",
        "\t\t        self.data = data\n",
        "\t\t        self.next = None\n",
        "\t\n",
        "'''\n",
        "class Solution:\n",
        "    #Function to check if the linked list has a loop.\n",
        "    def detectLoop(self, head):\n",
        "        #code here\n",
        "        \n",
        "        curr = head\n",
        "        ##print(curr.data)\n",
        "        \n",
        "        fast = curr\n",
        "    \n",
        "        \n",
        "        while fast != None and fast.next != None:\n",
        "            \n",
        "            fast =  fast.next.next \n",
        "            curr = curr.next\n",
        "            \n",
        "            if fast == curr:\n",
        "                return True \n",
        "            \n",
        "            elif fast == None or fast.next == None:\n",
        "                return False \n",
        "            \n",
        "            \n",
        "        \n",
        "        \n",
        "        return False\n",
        "            \n",
        "        \n",
        "\n",
        "\n",
        "#{ \n",
        " # Driver Code Starts\n",
        "#Initial Template for Python 3\n",
        "\n",
        "# Node Class\n",
        "class Node:\n",
        "    def __init__(self, data):   # data -> value stored in node\n",
        "        self.data = data\n",
        "        self.next = None\n",
        "\n",
        "# Linked List Class\n",
        "class LinkedList:\n",
        "    def __init__(self):\n",
        "        self.head = None\n",
        "        self.tail = None\n",
        "    \n",
        "    # creates a new node with given value and appends it at the end of the linked list\n",
        "    def insert(self, val):\n",
        "        if self.head is None:\n",
        "            self.head = Node(val)\n",
        "            self.tail = self.head\n",
        "        else:\n",
        "            self.tail.next = Node(val)\n",
        "            self.tail = self.tail.next\n",
        "    \n",
        "    #connects last node to node at position pos from begining.\n",
        "    def loopHere(self,pos):\n",
        "        if pos==0:\n",
        "            return\n",
        "        \n",
        "        walk = self.head\n",
        "        for i in range(1,pos):\n",
        "            walk = walk.next\n",
        "        \n",
        "        self.tail.next = walk\n",
        "\n",
        "if __name__ == '__main__':\n",
        "    for _ in range(int(input())):\n",
        "        n = int(input())\n",
        "        \n",
        "        LL = LinkedList()\n",
        "        for i in input().split():\n",
        "            LL.insert(int(i))\n",
        "        \n",
        "        LL.loopHere(int(input()))\n",
        "        \n",
        "        print(Solution().detectLoop(LL.head))\n",
        "# } Driver Code Ends"
      ],
      "metadata": {
        "colab": {
          "base_uri": "https://localhost:8080/",
          "height": 165
        },
        "id": "MknPnOqJO3iG",
        "outputId": "c13854ae-56a6-4abf-ca34-4a2d1e8bcf29"
      },
      "execution_count": 3,
      "outputs": [
        {
          "output_type": "error",
          "ename": "ValueError",
          "evalue": "ignored",
          "traceback": [
            "\u001b[0;31m---------------------------------------------------------------------------\u001b[0m",
            "\u001b[0;31mValueError\u001b[0m                                Traceback (most recent call last)",
            "\u001b[0;32m<ipython-input-3-7e54b8591e52>\u001b[0m in \u001b[0;36m<cell line: 1>\u001b[0;34m()\u001b[0m\n\u001b[0;32m----> 1\u001b[0;31m \u001b[0mt\u001b[0m \u001b[0;34m=\u001b[0m \u001b[0mint\u001b[0m\u001b[0;34m(\u001b[0m\u001b[0msys\u001b[0m\u001b[0;34m.\u001b[0m\u001b[0mstdin\u001b[0m\u001b[0;34m.\u001b[0m\u001b[0mreadline\u001b[0m\u001b[0;34m(\u001b[0m\u001b[0;34m)\u001b[0m\u001b[0;34m.\u001b[0m\u001b[0mstrip\u001b[0m\u001b[0;34m(\u001b[0m\u001b[0;34m)\u001b[0m\u001b[0;34m)\u001b[0m\u001b[0;34m\u001b[0m\u001b[0;34m\u001b[0m\u001b[0m\n\u001b[0m",
            "\u001b[0;31mValueError\u001b[0m: invalid literal for int() with base 10: ''"
          ]
        }
      ]
    },
    {
      "cell_type": "code",
      "source": [
        "sys.stdin.readline()"
      ],
      "metadata": {
        "colab": {
          "base_uri": "https://localhost:8080/",
          "height": 36
        },
        "id": "2BY6D5Y0PPtU",
        "outputId": "865d58c3-b4ba-4c4e-a817-44a790b0d8c9"
      },
      "execution_count": 4,
      "outputs": [
        {
          "output_type": "execute_result",
          "data": {
            "text/plain": [
              "''"
            ],
            "application/vnd.google.colaboratory.intrinsic+json": {
              "type": "string"
            }
          },
          "metadata": {},
          "execution_count": 4
        }
      ]
    },
    {
      "cell_type": "markdown",
      "source": [
        "Linked List Cycle II\n",
        "\n",
        "https://www.codingninjas.com/codestudio/problems/1112628?topList=striver-sde-sheet-problems&utm_source=striver&utm_medium=website&leftPanelTab=0"
      ],
      "metadata": {
        "id": "lUDUHoifWMP1"
      }
    },
    {
      "cell_type": "code",
      "source": [
        "from os import *\n",
        "from sys import *\n",
        "from collections import *\n",
        "from math import *\n",
        "\n",
        "#    List Node Class\n",
        "class Node:\n",
        "    def __init__(self, data):\n",
        "\n",
        "        self.data = data\n",
        "        self.next = None\n",
        "        self.pos = []\n",
        "\n",
        "    def __del__(self):\n",
        "        if (self.next):\n",
        "            del self.next\n",
        "\n",
        "\n",
        "def firstNode(head):\n",
        "    #    Write your code here\n",
        "    #    Return the node where the cycle begins\n",
        "    \n",
        "    slow = head\n",
        "    fast = head\n",
        "\n",
        "    #print(fast.data)\n",
        "\n",
        "    while fast != None:\n",
        "        \n",
        "        if fast.next == None:\n",
        "            return  \n",
        "        \n",
        "        fast = fast.next.next \n",
        "        slow = slow.next \n",
        "\n",
        "        if fast == slow:\n",
        "            break\n",
        "        elif fast == None:\n",
        "            return  \n",
        "    \n",
        "    #print(\"loop\")\n",
        "    \n",
        "    ## now my slow and fast are at matching node\n",
        "    ## to get starting point \n",
        "\n",
        "    slow = head\n",
        "    \n",
        "    while slow != fast:\n",
        "        \n",
        "        slow = slow.next \n",
        "        fast = fast.next \n",
        "        \n",
        "    return slow \n",
        "    \n",
        "    \n",
        "\n",
        "\n",
        "    \n",
        "    \n",
        "\n"
      ],
      "metadata": {
        "id": "BcWW03xlO7-H"
      },
      "execution_count": null,
      "outputs": []
    }
  ]
}