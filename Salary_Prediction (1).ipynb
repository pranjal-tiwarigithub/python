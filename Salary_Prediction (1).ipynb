{
  "nbformat": 4,
  "nbformat_minor": 5,
  "metadata": {
    "kernelspec": {
      "display_name": "Python 3",
      "language": "python",
      "name": "python3"
    },
    "language_info": {
      "codemirror_mode": {
        "name": "ipython",
        "version": 3
      },
      "file_extension": ".py",
      "mimetype": "text/x-python",
      "name": "python",
      "nbconvert_exporter": "python",
      "pygments_lexer": "ipython3",
      "version": "3.8.8"
    },
    "colab": {
      "name": "Salary Prediction.ipynb",
      "provenance": []
    }
  },
  "cells": [
    {
      "cell_type": "markdown",
      "metadata": {
        "id": "3cc10c97"
      },
      "source": [
        "# <center><font face='comic sans ms'> Salary Prediction</font></center>"
      ],
      "id": "3cc10c97"
    },
    {
      "cell_type": "markdown",
      "metadata": {
        "id": "41f0ad00"
      },
      "source": [
        "<b>Problem on Hand: </b> Given a data set which  captures gross salary from July 1, 2013 through June 30, 2014 and includes only those employees who were employed on June 30, 2014 Predict the Salaries for Employees in Blatimore</b>\n",
        "\n",
        "# Outline\n",
        "1. Import Datasets\n",
        "2. Data Cleaning and Data Preparation\n",
        "3. Exploratory Data Analysis \n",
        "4. Feature Engineering\n",
        "5. Train Test Split\n",
        "6. Model Building\n",
        "7. Model Evaluation"
      ],
      "id": "41f0ad00"
    },
    {
      "cell_type": "code",
      "metadata": {
        "id": "5c8fd18a"
      },
      "source": [
        "# Import Libraries for Analysis\n",
        "import numpy as np\n",
        "import pandas as pd\n",
        "\n",
        "# Import Libraries for visualization\n",
        "import matplotlib.pyplot as plt\n",
        "import seaborn as sns\n",
        "\n",
        "# Import libraries for train test split\n",
        "from sklearn.model_selection import train_test_split\n",
        "\n",
        "# import Ilbrary for Scaling\n",
        "from sklearn.preprocessing import StandardScaler\n",
        "\n",
        "# import Ilbrary for Model Building\n",
        "from sklearn.linear_model import LinearRegression\n",
        "\n",
        "# Supress Warnings\n",
        "import warnings\n",
        "warnings.filterwarnings('ignore')"
      ],
      "id": "5c8fd18a",
      "execution_count": null,
      "outputs": []
    },
    {
      "cell_type": "markdown",
      "metadata": {
        "id": "41ab27cc"
      },
      "source": [
        "## <font face='Cursive'> Importing the data set </font>"
      ],
      "id": "41ab27cc"
    },
    {
      "cell_type": "markdown",
      "metadata": {
        "id": "26e21550"
      },
      "source": [
        "<b> The data set is in csv format and can be imported using [read_csv](https://pandas.pydata.org/pandas-docs/stable/reference/api/pandas.read_csv.html) method available in pandas library. Since this is original copy giving it a relevent name when importing. <br><br> </b>\n",
        "\n",
        "Also we will be checking whether the data set is correctly imported by checking the top5 rows of data set"
      ],
      "id": "26e21550"
    },
    {
      "cell_type": "code",
      "metadata": {
        "colab": {
          "base_uri": "https://localhost:8080/",
          "height": 203
        },
        "id": "e80ba5aa",
        "outputId": "274b72d3-5c54-4d76-9369-b1aa5a5759bf"
      },
      "source": [
        "# Import the data set\n",
        "salary_org = pd.read_csv(\"/content/train.csv\")\n",
        "\n",
        "# Print top 5 rows of dataset\n",
        "salary_org.head()"
      ],
      "id": "e80ba5aa",
      "execution_count": null,
      "outputs": [
        {
          "output_type": "execute_result",
          "data": {
            "text/html": [
              "<div>\n",
              "<style scoped>\n",
              "    .dataframe tbody tr th:only-of-type {\n",
              "        vertical-align: middle;\n",
              "    }\n",
              "\n",
              "    .dataframe tbody tr th {\n",
              "        vertical-align: top;\n",
              "    }\n",
              "\n",
              "    .dataframe thead th {\n",
              "        text-align: right;\n",
              "    }\n",
              "</style>\n",
              "<table border=\"1\" class=\"dataframe\">\n",
              "  <thead>\n",
              "    <tr style=\"text-align: right;\">\n",
              "      <th></th>\n",
              "      <th>Name</th>\n",
              "      <th>JobTitle</th>\n",
              "      <th>AgencyID</th>\n",
              "      <th>Agency</th>\n",
              "      <th>HireDate</th>\n",
              "      <th>AnnualSalary</th>\n",
              "      <th>GrossPay</th>\n",
              "    </tr>\n",
              "  </thead>\n",
              "  <tbody>\n",
              "    <tr>\n",
              "      <th>0</th>\n",
              "      <td>Aaron,Keontae E</td>\n",
              "      <td>AIDE BLUE CHIP</td>\n",
              "      <td>W02200</td>\n",
              "      <td>Youth Summer</td>\n",
              "      <td>06/10/2013</td>\n",
              "      <td>$11310.00</td>\n",
              "      <td>$873.63</td>\n",
              "    </tr>\n",
              "    <tr>\n",
              "      <th>1</th>\n",
              "      <td>Aaron,Patricia G</td>\n",
              "      <td>Facilities/Office Services II</td>\n",
              "      <td>A03031</td>\n",
              "      <td>OED-Employment Dev</td>\n",
              "      <td>10/24/1979</td>\n",
              "      <td>$53428.00</td>\n",
              "      <td>$52868.38</td>\n",
              "    </tr>\n",
              "    <tr>\n",
              "      <th>2</th>\n",
              "      <td>Aaron,Petra L</td>\n",
              "      <td>ASSISTANT STATE'S ATTORNEY</td>\n",
              "      <td>A29005</td>\n",
              "      <td>States Attorneys Office</td>\n",
              "      <td>09/25/2006</td>\n",
              "      <td>$68300.00</td>\n",
              "      <td>$67439.19</td>\n",
              "    </tr>\n",
              "    <tr>\n",
              "      <th>3</th>\n",
              "      <td>Abaineh,Yohannes T</td>\n",
              "      <td>EPIDEMIOLOGIST</td>\n",
              "      <td>A65026</td>\n",
              "      <td>HLTH-Health Department</td>\n",
              "      <td>07/23/2009</td>\n",
              "      <td>$62000.00</td>\n",
              "      <td>$58654.74</td>\n",
              "    </tr>\n",
              "    <tr>\n",
              "      <th>4</th>\n",
              "      <td>Abbene,Anthony M</td>\n",
              "      <td>POLICE OFFICER TRAINEE</td>\n",
              "      <td>A99416</td>\n",
              "      <td>Police Department</td>\n",
              "      <td>07/24/2013</td>\n",
              "      <td>$43999.00</td>\n",
              "      <td>$39686.95</td>\n",
              "    </tr>\n",
              "  </tbody>\n",
              "</table>\n",
              "</div>"
            ],
            "text/plain": [
              "                 Name                       JobTitle  ... AnnualSalary   GrossPay\n",
              "0     Aaron,Keontae E                 AIDE BLUE CHIP  ...    $11310.00    $873.63\n",
              "1    Aaron,Patricia G  Facilities/Office Services II  ...    $53428.00  $52868.38\n",
              "2       Aaron,Petra L     ASSISTANT STATE'S ATTORNEY  ...    $68300.00  $67439.19\n",
              "3  Abaineh,Yohannes T                 EPIDEMIOLOGIST  ...    $62000.00  $58654.74\n",
              "4    Abbene,Anthony M         POLICE OFFICER TRAINEE  ...    $43999.00  $39686.95\n",
              "\n",
              "[5 rows x 7 columns]"
            ]
          },
          "metadata": {
            "tags": []
          },
          "execution_count": 5
        }
      ]
    },
    {
      "cell_type": "markdown",
      "metadata": {
        "id": "4db01271"
      },
      "source": [
        "## <font face='Cursive'> Data Cleaning and Preparation</font>"
      ],
      "id": "4db01271"
    },
    {
      "cell_type": "code",
      "metadata": {
        "colab": {
          "base_uri": "https://localhost:8080/"
        },
        "id": "ed6c7b91",
        "outputId": "7abeeb2e-d5d6-4b50-dece-07842be8465d"
      },
      "source": [
        "# Check the info of data set\n",
        "salary_org.info()"
      ],
      "id": "ed6c7b91",
      "execution_count": null,
      "outputs": [
        {
          "output_type": "stream",
          "text": [
            "<class 'pandas.core.frame.DataFrame'>\n",
            "RangeIndex: 18981 entries, 0 to 18980\n",
            "Data columns (total 7 columns):\n",
            " #   Column        Non-Null Count  Dtype \n",
            "---  ------        --------------  ----- \n",
            " 0    Name         18981 non-null  object\n",
            " 1   JobTitle      18981 non-null  object\n",
            " 2   AgencyID      18981 non-null  object\n",
            " 3   Agency        18981 non-null  object\n",
            " 4   HireDate      18911 non-null  object\n",
            " 5   AnnualSalary  18981 non-null  object\n",
            " 6   GrossPay      15758 non-null  object\n",
            "dtypes: object(7)\n",
            "memory usage: 1.0+ MB\n"
          ],
          "name": "stdout"
        }
      ]
    },
    {
      "cell_type": "markdown",
      "metadata": {
        "id": "ad0ab0ac"
      },
      "source": [
        " - <font> There are 18981 rows in the data set</font>\n",
        " - <font> There are 7 columns in the data set provided</font>\n",
        " - <font> All the columns are of type Object.</font>\n",
        " "
      ],
      "id": "ad0ab0ac"
    },
    {
      "cell_type": "markdown",
      "metadata": {
        "id": "5ac33638"
      },
      "source": [
        "<font> Its always a good practice to work on copy of data set instead of the Original Data set itself. Hence Creating a [copy](https://pandas.pydata.org/pandas-docs/stable/reference/api/pandas.DataFrame.copy.html) of data set.</font>"
      ],
      "id": "5ac33638"
    },
    {
      "cell_type": "code",
      "metadata": {
        "id": "fed3af96"
      },
      "source": [
        "# Create a copy of data set\n",
        "salary_cpy = salary_org.copy()"
      ],
      "id": "fed3af96",
      "execution_count": null,
      "outputs": []
    },
    {
      "cell_type": "code",
      "metadata": {
        "colab": {
          "base_uri": "https://localhost:8080/"
        },
        "id": "a69ed8c5",
        "outputId": "4dcef361-72b7-4894-ac2f-843d7ee68ec0"
      },
      "source": [
        "# Check column names\n",
        "salary_cpy.columns"
      ],
      "id": "a69ed8c5",
      "execution_count": null,
      "outputs": [
        {
          "output_type": "execute_result",
          "data": {
            "text/plain": [
              "Index([' Name', 'JobTitle', 'AgencyID', 'Agency', 'HireDate', 'AnnualSalary',\n",
              "       'GrossPay'],\n",
              "      dtype='object')"
            ]
          },
          "metadata": {
            "tags": []
          },
          "execution_count": 8
        }
      ]
    },
    {
      "cell_type": "markdown",
      "metadata": {
        "id": "058e86b5"
      },
      "source": [
        "<font> Since Name has leading space lets remove it.</font>"
      ],
      "id": "058e86b5"
    },
    {
      "cell_type": "code",
      "metadata": {
        "colab": {
          "base_uri": "https://localhost:8080/"
        },
        "id": "86d3277c",
        "outputId": "aa8529c0-c717-4360-81ba-b947b16e3329"
      },
      "source": [
        "# Remove leading and trailing edges\n",
        "salary_cpy.columns = salary_cpy.columns.str.strip()\n",
        "\n",
        "print(salary_cpy.columns.str)\n",
        "\n",
        "# print coloumns after stripping spaces\n",
        "print(\"After Removing leading and trailing spaces \",  salary_cpy.columns)"
      ],
      "id": "86d3277c",
      "execution_count": null,
      "outputs": [
        {
          "output_type": "stream",
          "text": [
            "<pandas.core.strings.StringMethods object at 0x7ffb4fcf8b90>\n",
            "After Removing leading and trailing spaces  Index(['Name', 'JobTitle', 'AgencyID', 'Agency', 'HireDate', 'AnnualSalary',\n",
            "       'GrossPay'],\n",
            "      dtype='object')\n"
          ],
          "name": "stdout"
        }
      ]
    },
    {
      "cell_type": "markdown",
      "metadata": {
        "id": "743fc818"
      },
      "source": [
        "The first and formost step before we jump into Analysis is Treating Null Values. So let us [Check Null](https://pandas.pydata.org/pandas-docs/stable/reference/api/pandas.DataFrame.isnull.html) Values."
      ],
      "id": "743fc818"
    },
    {
      "cell_type": "code",
      "metadata": {
        "colab": {
          "base_uri": "https://localhost:8080/"
        },
        "id": "3513277c",
        "outputId": "e6f59e0b-6a1b-49f7-affe-342cd4b02110"
      },
      "source": [
        "# Check Null Values in data set\n",
        "salary_cpy.isnull().sum()"
      ],
      "id": "3513277c",
      "execution_count": null,
      "outputs": [
        {
          "output_type": "execute_result",
          "data": {
            "text/plain": [
              "Name               0\n",
              "JobTitle           0\n",
              "AgencyID           0\n",
              "Agency             0\n",
              "HireDate          70\n",
              "AnnualSalary       0\n",
              "GrossPay        3223\n",
              "dtype: int64"
            ]
          },
          "metadata": {
            "tags": []
          },
          "execution_count": 10
        }
      ]
    },
    {
      "cell_type": "markdown",
      "metadata": {
        "id": "2aa430d7"
      },
      "source": [
        "<font> There are null values in HireDate and GrossPay Columns. Let's work on each of them.</font>\n",
        "<br>\n",
        "<font> There are 70 null values in HireDate which is less than 1% of values so [dropping those rows](https://pandas.pydata.org/pandas-docs/stable/reference/api/pandas.DataFrame.dropna.html#pandas.DataFrame.dropna) .</font>"
      ],
      "id": "2aa430d7"
    },
    {
      "cell_type": "code",
      "metadata": {
        "colab": {
          "base_uri": "https://localhost:8080/"
        },
        "id": "01e4f9e2",
        "outputId": "0537ab8b-bae4-400c-b6aa-fb51c9ae225e"
      },
      "source": [
        "# Remove rows having empty hire date\n",
        "salary_cpy = salary_cpy.dropna(subset=['HireDate'])\n",
        "\n",
        "# Check null Values\n",
        "print(salary_cpy.isnull().sum())\n",
        "\n",
        "print(salary_cpy.info())"
      ],
      "id": "01e4f9e2",
      "execution_count": null,
      "outputs": [
        {
          "output_type": "stream",
          "text": [
            "Name               0\n",
            "JobTitle           0\n",
            "AgencyID           0\n",
            "Agency             0\n",
            "HireDate           0\n",
            "AnnualSalary       0\n",
            "GrossPay        3223\n",
            "dtype: int64\n",
            "<class 'pandas.core.frame.DataFrame'>\n",
            "Int64Index: 18911 entries, 0 to 18980\n",
            "Data columns (total 7 columns):\n",
            " #   Column        Non-Null Count  Dtype \n",
            "---  ------        --------------  ----- \n",
            " 0   Name          18911 non-null  object\n",
            " 1   JobTitle      18911 non-null  object\n",
            " 2   AgencyID      18911 non-null  object\n",
            " 3   Agency        18911 non-null  object\n",
            " 4   HireDate      18911 non-null  object\n",
            " 5   AnnualSalary  18911 non-null  object\n",
            " 6   GrossPay      15688 non-null  object\n",
            "dtypes: object(7)\n",
            "memory usage: 1.2+ MB\n",
            "None\n"
          ],
          "name": "stdout"
        }
      ]
    },
    {
      "cell_type": "markdown",
      "metadata": {
        "id": "5ade2f5a"
      },
      "source": [
        "<font> There are no null values in HireDate Column.Moving on to GrossPay.</font><br>\n",
        "<font> Gross Pay is dependent on Annual salary. So these two are interrelated and only one of this can be used as dependent variable. As we have null values in GrossPay , [dropping that column](https://pandas.pydata.org/pandas-docs/stable/reference/api/pandas.DataFrame.drop.html)</font>"
      ],
      "id": "5ade2f5a"
    },
    {
      "cell_type": "code",
      "metadata": {
        "colab": {
          "base_uri": "https://localhost:8080/"
        },
        "id": "9904b0db",
        "outputId": "c801ae04-8837-429c-c70c-0f89af9537bc"
      },
      "source": [
        "# Drop Gross Pay column\n",
        "salary_cpy=salary_cpy.drop('GrossPay',axis=1)\n",
        "\n",
        "# Check null Values\n",
        "salary_cpy.isnull().sum()\n",
        "\n",
        "print(salary_cpy.info())"
      ],
      "id": "9904b0db",
      "execution_count": null,
      "outputs": [
        {
          "output_type": "stream",
          "text": [
            "<class 'pandas.core.frame.DataFrame'>\n",
            "Int64Index: 18911 entries, 0 to 18980\n",
            "Data columns (total 6 columns):\n",
            " #   Column        Non-Null Count  Dtype \n",
            "---  ------        --------------  ----- \n",
            " 0   Name          18911 non-null  object\n",
            " 1   JobTitle      18911 non-null  object\n",
            " 2   AgencyID      18911 non-null  object\n",
            " 3   Agency        18911 non-null  object\n",
            " 4   HireDate      18911 non-null  object\n",
            " 5   AnnualSalary  18911 non-null  object\n",
            "dtypes: object(6)\n",
            "memory usage: 1.0+ MB\n",
            "None\n"
          ],
          "name": "stdout"
        }
      ]
    },
    {
      "cell_type": "markdown",
      "metadata": {
        "id": "9c23409a"
      },
      "source": [
        "<font> Let us check [value counts](https://pandas.pydata.org/pandas-docs/stable/reference/api/pandas.DataFrame.value_counts.html) for all columns</font>"
      ],
      "id": "9c23409a"
    },
    {
      "cell_type": "code",
      "metadata": {
        "colab": {
          "base_uri": "https://localhost:8080/"
        },
        "id": "c0901b6e",
        "outputId": "0b1ee8d3-34af-4847-c08c-9613c01f0848"
      },
      "source": [
        "# Value_counts for AgencyID\n",
        "salary_cpy.AgencyID.value_counts()"
      ],
      "id": "c0901b6e",
      "execution_count": null,
      "outputs": [
        {
          "output_type": "execute_result",
          "data": {
            "text/plain": [
              "P04001    316\n",
              "C90786    276\n",
              "W02629    193\n",
              "P04002    191\n",
              "A99416    166\n",
              "         ... \n",
              "W02584      1\n",
              "W02681      1\n",
              "W02525      1\n",
              "W02591      1\n",
              "W02509      1\n",
              "Name: AgencyID, Length: 1177, dtype: int64"
            ]
          },
          "metadata": {
            "tags": []
          },
          "execution_count": 13
        }
      ]
    },
    {
      "cell_type": "markdown",
      "metadata": {
        "id": "8c09b612"
      },
      "source": [
        "<font>There are 1177 agencies in Blatimore. As per general Understanding AgencyID represents an Agency, so we should have same number of Agencies as well. Lets check the same</font>"
      ],
      "id": "8c09b612"
    },
    {
      "cell_type": "code",
      "metadata": {
        "id": "60addaaf",
        "colab": {
          "base_uri": "https://localhost:8080/"
        },
        "outputId": "d3d664d1-7a5f-4c76-bbee-20dfeb6fd7f3"
      },
      "source": [
        "# Value_counts for Agency\n",
        "salary_cpy.Agency.value_counts()"
      ],
      "id": "60addaaf",
      "execution_count": null,
      "outputs": [
        {
          "output_type": "execute_result",
          "data": {
            "text/plain": [
              "Youth Summer                4323\n",
              "Police Department           3141\n",
              "Fire Department             1576\n",
              "DPW-Water & Waste Water     1491\n",
              "HLTH-Health Department       833\n",
              "                            ... \n",
              "Council Services               6\n",
              "HLTH-Health Dept Locatio       6\n",
              "Legislative Reference          5\n",
              "M-R Cable & Comm               4\n",
              "Special City Services          4\n",
              "Name: Agency, Length: 65, dtype: int64"
            ]
          },
          "metadata": {
            "tags": []
          },
          "execution_count": 14
        }
      ]
    },
    {
      "cell_type": "markdown",
      "metadata": {
        "id": "f3c61e18"
      },
      "source": [
        "<font color = ''> Against general expectations, A single Agency seems to have different Agency ID's which might be given based on Job Role and Agency. Let's verify the Same </font>"
      ],
      "id": "f3c61e18"
    },
    {
      "cell_type": "code",
      "metadata": {
        "id": "b2c66de5",
        "colab": {
          "base_uri": "https://localhost:8080/"
        },
        "outputId": "80ed5c8c-ed90-4bab-9d34-4ec45467d003"
      },
      "source": [
        "# Value_counts for JobTitle\n",
        "salary_cpy.JobTitle.value_counts()"
      ],
      "id": "b2c66de5",
      "execution_count": null,
      "outputs": [
        {
          "output_type": "execute_result",
          "data": {
            "text/plain": [
              "AIDE BLUE CHIP                   4817\n",
              "POLICE OFFICER                   1866\n",
              "LABORER (Hourly)                  597\n",
              "EMT Firefighter Suppression       358\n",
              "CROSSING GUARD                    337\n",
              "                                 ... \n",
              "ELECTRICAL MECHANIC SUPV            1\n",
              "WWW Chief of Engineering            1\n",
              "BUILDING REPAIRER SUPV              1\n",
              "CABINETMAKER II                     1\n",
              "DEPUTY SHERIFF SUPV (SPECIAL)       1\n",
              "Name: JobTitle, Length: 1073, dtype: int64"
            ]
          },
          "metadata": {
            "tags": []
          },
          "execution_count": 15
        }
      ]
    },
    {
      "cell_type": "markdown",
      "metadata": {
        "id": "2eefc7c8"
      },
      "source": [
        "<font color = ''> There are 1073 Job title that are available</font>"
      ],
      "id": "2eefc7c8"
    },
    {
      "cell_type": "code",
      "metadata": {
        "id": "19ff3fd8",
        "colab": {
          "base_uri": "https://localhost:8080/"
        },
        "outputId": "9f6093fb-bde0-4e5e-ae46-df7ddadb93e9"
      },
      "source": [
        "#Value counts on HireDate\n",
        "salary_cpy.HireDate.value_counts()"
      ],
      "id": "19ff3fd8",
      "execution_count": null,
      "outputs": [
        {
          "output_type": "execute_result",
          "data": {
            "text/plain": [
              "05/21/2014    1478\n",
              "06/10/2013     696\n",
              "06/12/2012     541\n",
              "06/07/2011     368\n",
              "05/29/2014     347\n",
              "              ... \n",
              "02/27/1998       1\n",
              "08/29/1976       1\n",
              "11/10/2011       1\n",
              "02/08/2000       1\n",
              "01/16/1995       1\n",
              "Name: HireDate, Length: 4737, dtype: int64"
            ]
          },
          "metadata": {
            "tags": []
          },
          "execution_count": 16
        }
      ]
    },
    {
      "cell_type": "markdown",
      "metadata": {
        "id": "3962be65"
      },
      "source": [
        " - <font> More number of people are selected on 05/21/2014</font>\n",
        " - <font> Date is of format MM/DD/YYYY </font>"
      ],
      "id": "3962be65"
    },
    {
      "cell_type": "code",
      "metadata": {
        "id": "167b3246",
        "colab": {
          "base_uri": "https://localhost:8080/"
        },
        "outputId": "84fcaba3-bf71-408e-ea72-6c307960ea37"
      },
      "source": [
        "#Value counts on Annual Salary\n",
        "salary_cpy.AnnualSalary.value_counts()"
      ],
      "id": "167b3246",
      "execution_count": null,
      "outputs": [
        {
          "output_type": "execute_result",
          "data": {
            "text/plain": [
              "$11310.00    4811\n",
              "$20800.00     325\n",
              "$29245.00     196\n",
              "$43999.00     169\n",
              "$44773.00     162\n",
              "             ... \n",
              "$49346.00       1\n",
              "$41250.00       1\n",
              "$89400.00       1\n",
              "$45891.00       1\n",
              "$80955.00       1\n",
              "Name: AnnualSalary, Length: 1590, dtype: int64"
            ]
          },
          "metadata": {
            "tags": []
          },
          "execution_count": 17
        }
      ]
    },
    {
      "cell_type": "code",
      "metadata": {
        "id": "BYVc6j4NdSWC"
      },
      "source": [
        "sum = lambda a,b: a+b"
      ],
      "id": "BYVc6j4NdSWC",
      "execution_count": null,
      "outputs": []
    },
    {
      "cell_type": "markdown",
      "metadata": {
        "id": "3278bb5a"
      },
      "source": [
        " - <font color = ''> Annual Salary has a dollar attached to it we will have to remove it and convert it ingto integer format</font>"
      ],
      "id": "3278bb5a"
    },
    {
      "cell_type": "code",
      "metadata": {
        "id": "7aad4859"
      },
      "source": [
        "# Removing $ from Annual Salary and converting it into Integer format\n",
        "salary_cpy['AnnualSalary'] = salary_cpy['AnnualSalary'].apply(lambda x : (float)(str(x)[1:]))"
      ],
      "id": "7aad4859",
      "execution_count": null,
      "outputs": []
    },
    {
      "cell_type": "code",
      "metadata": {
        "id": "158f0254",
        "colab": {
          "base_uri": "https://localhost:8080/"
        },
        "outputId": "576cfd22-bdc9-4c82-e31c-9cf1bab40ef0"
      },
      "source": [
        "#Value counts on Annual Salary\n",
        "salary_cpy.AnnualSalary.value_counts()"
      ],
      "id": "158f0254",
      "execution_count": null,
      "outputs": [
        {
          "output_type": "execute_result",
          "data": {
            "text/plain": [
              "11310.0    4811\n",
              "20800.0     325\n",
              "29245.0     196\n",
              "43999.0     169\n",
              "44773.0     162\n",
              "           ... \n",
              "35509.0       1\n",
              "25945.0       1\n",
              "51889.0       1\n",
              "39600.0       1\n",
              "86400.0       1\n",
              "Name: AnnualSalary, Length: 1590, dtype: int64"
            ]
          },
          "metadata": {
            "tags": []
          },
          "execution_count": 20
        }
      ]
    },
    {
      "cell_type": "markdown",
      "metadata": {
        "id": "cd52a48d"
      },
      "source": [
        "##### <font color = ''> Now that we have modified Salary , lets also break the Date into year ,month and day </font>"
      ],
      "id": "cd52a48d"
    },
    {
      "cell_type": "code",
      "metadata": {
        "id": "b86771ea",
        "colab": {
          "base_uri": "https://localhost:8080/"
        },
        "outputId": "cf70af05-2ca6-429f-a694-fb3a2055a469"
      },
      "source": [
        "salary_cpy['HireDay'] = salary_cpy['HireDate'].apply(lambda x : (int)(str(x[3:5])))    # 05/21/2014\n",
        "salary_cpy['HireMonth'] = salary_cpy['HireDate'].apply(lambda x : (int)(str(x[0:2])))\n",
        "salary_cpy['HireYear'] = salary_cpy['HireDate'].apply(lambda x : (int)(str(x[6:])))\n",
        "\n",
        "# Print info to check whether columns are added\n",
        "salary_cpy.info()\n"
      ],
      "id": "b86771ea",
      "execution_count": null,
      "outputs": [
        {
          "output_type": "stream",
          "text": [
            "<class 'pandas.core.frame.DataFrame'>\n",
            "Int64Index: 18911 entries, 0 to 18980\n",
            "Data columns (total 9 columns):\n",
            " #   Column        Non-Null Count  Dtype  \n",
            "---  ------        --------------  -----  \n",
            " 0   Name          18911 non-null  object \n",
            " 1   JobTitle      18911 non-null  object \n",
            " 2   AgencyID      18911 non-null  object \n",
            " 3   Agency        18911 non-null  object \n",
            " 4   HireDate      18911 non-null  object \n",
            " 5   AnnualSalary  18911 non-null  float64\n",
            " 6   HireDay       18911 non-null  int64  \n",
            " 7   HireMonth     18911 non-null  int64  \n",
            " 8   HireYear      18911 non-null  int64  \n",
            "dtypes: float64(1), int64(3), object(5)\n",
            "memory usage: 1.4+ MB\n"
          ],
          "name": "stdout"
        }
      ]
    },
    {
      "cell_type": "markdown",
      "metadata": {
        "id": "ed55c527"
      },
      "source": [
        " <font color = ''> Trimming all categorical columns to make sure there are no leading and trailing spaces and no double space between Words </font>"
      ],
      "id": "ed55c527"
    },
    {
      "cell_type": "code",
      "metadata": {
        "id": "d631dd2a"
      },
      "source": [
        "# Trim spaces\n",
        "salary_cpy['JobTitle'] = salary_cpy['JobTitle'].apply(lambda x : str(x).strip().replace(\"  \",\" \"))\n",
        "salary_cpy['AgencyID'] = salary_cpy['AgencyID'].apply(lambda x : str(x).strip().replace(\"  \",\" \"))\n",
        "salary_cpy['Agency'] = salary_cpy['Agency'].apply(lambda x : str(x).strip().replace(\"  \",\" \"))"
      ],
      "id": "d631dd2a",
      "execution_count": null,
      "outputs": []
    },
    {
      "cell_type": "markdown",
      "metadata": {
        "id": "45d43f60"
      },
      "source": [
        "<font color = ''> It can also be seen that some of the job titles are in Upper case. so with Lower and with mix of both which might effect analysis, so converting them to  uppercase and also converting  Agency and AgencyID</font>"
      ],
      "id": "45d43f60"
    },
    {
      "cell_type": "code",
      "metadata": {
        "id": "d7c40008"
      },
      "source": [
        "# Trim spaces\n",
        "salary_cpy['JobTitle'] = salary_cpy['JobTitle'].apply(lambda x : str(x).upper())\n",
        "salary_cpy['AgencyID'] = salary_cpy['AgencyID'].apply(lambda x : str(x).upper())\n",
        "salary_cpy['Agency'] = salary_cpy['Agency'].apply(lambda x : str(x).upper())"
      ],
      "id": "d7c40008",
      "execution_count": null,
      "outputs": []
    },
    {
      "cell_type": "markdown",
      "metadata": {
        "id": "fa5f4614"
      },
      "source": [
        "<font color = ''> The last thing left in Data Preparation is Outlier Treatment. So lerts create [Box plot](https://matplotlib.org/stable/api/_as_gen/matplotlib.pyplot.boxplot.html) for Annual Salary and check for Outliers </font>"
      ],
      "id": "fa5f4614"
    },
    {
      "cell_type": "code",
      "metadata": {
        "id": "63584ddf",
        "colab": {
          "base_uri": "https://localhost:8080/",
          "height": 431
        },
        "outputId": "5bda577a-a664-405a-d2a1-431f5077bcfb"
      },
      "source": [
        "plt.subplots(figsize=(15,7))\n",
        "\n",
        "plt.subplot(1,2,1)\n",
        "salary_cpy['AnnualSalary'].plot.box()\n",
        "\n",
        "plt.subplot(1,2,2)\n",
        "plt.hist(salary_cpy['AnnualSalary'], bins=20)\n",
        "\n",
        "plt.show()"
      ],
      "id": "63584ddf",
      "execution_count": null,
      "outputs": [
        {
          "output_type": "display_data",
          "data": {
            "image/png": "[encoded data removed]",
            "text/plain": [
              "<Figure size 1080x504 with 2 Axes>"
            ]
          },
          "metadata": {
            "tags": [],
            "needs_background": "light"
          }
        }
      ]
    },
    {
      "cell_type": "markdown",
      "metadata": {
        "id": "ebfe4bf1"
      },
      "source": [
        "- <font color = ''> There are few Salaries which are way far from other Salaries.</font>\n",
        "- <font color = ''> They might effect the prediction. So we have to eliminate them</font><br><br>\n",
        "\n",
        "<font color = ''> Lets Check the Summary Statistics as well </font>"
      ],
      "id": "ebfe4bf1"
    },
    {
      "cell_type": "code",
      "metadata": {
        "id": "595ab577",
        "colab": {
          "base_uri": "https://localhost:8080/"
        },
        "outputId": "def1ea98-563e-4b29-dd5a-c3baeea67de8"
      },
      "source": [
        "# SUMMARY STATS OF AnnualSalary\n",
        "salary_cpy.AnnualSalary.describe()"
      ],
      "id": "595ab577",
      "execution_count": null,
      "outputs": [
        {
          "output_type": "execute_result",
          "data": {
            "text/plain": [
              "count     18911.000000\n",
              "mean      39660.421889\n",
              "std       25163.465942\n",
              "min           0.000000\n",
              "25%       11310.000000\n",
              "50%       36203.000000\n",
              "75%       60300.000000\n",
              "max      238772.000000\n",
              "Name: AnnualSalary, dtype: float64"
            ]
          },
          "metadata": {
            "tags": []
          },
          "execution_count": 25
        }
      ]
    },
    {
      "cell_type": "markdown",
      "metadata": {
        "id": "8e570069"
      },
      "source": [
        "As can be seen The max value way more than mean , median .\n",
        "\n",
        "<font color = ''> Let's delete rows whose annual salary> 1500000 according to box plot</font>"
      ],
      "id": "8e570069"
    },
    {
      "cell_type": "code",
      "metadata": {
        "id": "a34b7f8c",
        "colab": {
          "base_uri": "https://localhost:8080/"
        },
        "outputId": "7d02d125-91de-47ff-c90e-095fc6392479"
      },
      "source": [
        "salary_cpy = salary_cpy[salary_cpy['AnnualSalary']<150000]\n",
        "salary_cpy.shape\n"
      ],
      "id": "a34b7f8c",
      "execution_count": null,
      "outputs": [
        {
          "output_type": "execute_result",
          "data": {
            "text/plain": [
              "(18895, 9)"
            ]
          },
          "metadata": {
            "tags": []
          },
          "execution_count": 26
        }
      ]
    },
    {
      "cell_type": "code",
      "metadata": {
        "id": "8c1a2430",
        "colab": {
          "base_uri": "https://localhost:8080/",
          "height": 265
        },
        "outputId": "b3305d06-aa4f-40b2-dbfe-0cbc6e09102e"
      },
      "source": [
        "# Create Box Plot for Annual Salary\n",
        "salary_cpy.AnnualSalary.plot.box()\n",
        "plt.show()"
      ],
      "id": "8c1a2430",
      "execution_count": null,
      "outputs": [
        {
          "output_type": "display_data",
          "data": {
            "image/png": "[encoded data removed]",
            "text/plain": [
              "<Figure size 432x288 with 1 Axes>"
            ]
          },
          "metadata": {
            "tags": [],
            "needs_background": "light"
          }
        }
      ]
    },
    {
      "cell_type": "markdown",
      "metadata": {
        "id": "ba123777"
      },
      "source": [
        "All the data points above the 75% line are very close to each other so leaving it as is. <br><br> Now that we are done with Data Preparation lets move to next step"
      ],
      "id": "ba123777"
    },
    {
      "cell_type": "markdown",
      "metadata": {
        "id": "802e2758"
      },
      "source": [
        "## <font color='' face='Cursive'>Exploratory Data Analysis</font>"
      ],
      "id": "802e2758"
    },
    {
      "cell_type": "markdown",
      "metadata": {
        "id": "4326cf4e"
      },
      "source": [
        "<font color=''> We will first check the distribution of of Annual Salary by creating a [distplot](https://seaborn.pydata.org/generated/seaborn.distplot.html)</font>"
      ],
      "id": "4326cf4e"
    },
    {
      "cell_type": "code",
      "metadata": {
        "id": "9625bd18"
      },
      "source": [
        "# Check distribution of Target Variable\n",
        "sns.distplot(salary_cpy.AnnualSalary)\n",
        "plt.title(\"Annual Salary Distribution Plot\",fontsize=15)\n",
        "plt.show()"
      ],
      "id": "9625bd18",
      "execution_count": null,
      "outputs": []
    },
    {
      "cell_type": "markdown",
      "metadata": {
        "id": "b06bc5c4"
      },
      "source": [
        " - <font color='' face='Calibri'> The data is distributed very randomly and there seems to be not many peopel with salary more than 100000</font>"
      ],
      "id": "b06bc5c4"
    },
    {
      "cell_type": "markdown",
      "metadata": {
        "id": "537dfed0"
      },
      "source": [
        "Let us check jobs for which people are being hired the most. For this we will be creating a [barplot](https://matplotlib.org/stable/api/_as_gen/matplotlib.pyplot.bar.html)"
      ],
      "id": "537dfed0"
    },
    {
      "cell_type": "code",
      "metadata": {
        "id": "51ca209b"
      },
      "source": [
        "#Top 10 Jobs that based on hirings\n",
        "plt.figure(figsize=(10,5))\n",
        "print(salary_cpy.groupby(['JobTitle'])['Name'].count().sort_values(ascending=False))\n",
        "salary_cpy.groupby(['JobTitle'])['Name'].count().sort_values(ascending=False).head(10).plot.bar()\n",
        "plt.ylabel('No of people Working')\n",
        "plt.title(\"Top 10 Jobs for which Hiring is Highest\",fontsize=20)\n",
        "plt.show()"
      ],
      "id": "51ca209b",
      "execution_count": null,
      "outputs": []
    },
    {
      "cell_type": "markdown",
      "metadata": {
        "id": "a3f9bde9"
      },
      "source": [
        "- The above plot clearly shows more number of People are working as AIDE BLUE CHIP which  has over double the workers working as POLICE OFFICER which is second Highest\n",
        "- All the remaining JobTitles have less than 1000 Workers "
      ],
      "id": "a3f9bde9"
    },
    {
      "cell_type": "markdown",
      "metadata": {
        "id": "6d0159c5"
      },
      "source": [
        "<font color=''> Let us check the top 10 Jobs that fetch highest Salary </font>"
      ],
      "id": "6d0159c5"
    },
    {
      "cell_type": "code",
      "metadata": {
        "id": "1ba25aff"
      },
      "source": [
        "#Top 10 Jobs that fetche highest Salary\n",
        "plt.figure(figsize=(10,5))\n",
        "print(salary_cpy.groupby(['JobTitle'])['AnnualSalary'].mean().sort_values(ascending=False))\n",
        "salary_cpy.groupby(['JobTitle'])['AnnualSalary'].mean().sort_values(ascending=False).head(10).plot.bar()\n",
        "plt.ylabel('Avg Salary')\n",
        "plt.title(\"Top 10 Highest Paying Jobs\",fontsize=20)\n",
        "plt.show()"
      ],
      "id": "1ba25aff",
      "execution_count": null,
      "outputs": []
    },
    {
      "cell_type": "markdown",
      "metadata": {
        "id": "33284c15"
      },
      "source": [
        " - The above plot clearly shows top 10 Jobs which fetch the highest Salary."
      ],
      "id": "33284c15"
    },
    {
      "cell_type": "markdown",
      "metadata": {
        "id": "8cdbece9"
      },
      "source": [
        "<font color=''> Number of Jobs whose average pay is more thatn total average salary</font>"
      ],
      "id": "8cdbece9"
    },
    {
      "cell_type": "code",
      "metadata": {
        "id": "82a306bc"
      },
      "source": [
        "# Find mean Salary\n",
        "mean_sal = salary_cpy.AnnualSalary.mean()\n",
        "\n",
        "# Number of Jobs paying more than mean salary\n",
        "print(salary_cpy.groupby(['JobTitle'])['AnnualSalary'].mean())\n",
        "print(salary_cpy.groupby(['JobTitle'])['AnnualSalary'].mean().reset_index())\n",
        "good_pay_jobs = salary_cpy.groupby(['JobTitle'])['AnnualSalary'].mean().reset_index()\n",
        "good_pay_jobs[good_pay_jobs.AnnualSalary>mean_sal]['JobTitle']"
      ],
      "id": "82a306bc",
      "execution_count": null,
      "outputs": []
    },
    {
      "cell_type": "markdown",
      "metadata": {
        "id": "3f9c1b18"
      },
      "source": [
        "- Out of 1073 Jobs 798 Jobs pay more than total average Salary"
      ],
      "id": "3f9c1b18"
    },
    {
      "cell_type": "markdown",
      "metadata": {
        "id": "c048a562"
      },
      "source": [
        "<font color=''> Let us check the top 10 Agencies and AgencyID with highest number of employees </font>"
      ],
      "id": "c048a562"
    },
    {
      "cell_type": "code",
      "metadata": {
        "id": "bdf7a484"
      },
      "source": [
        "#Top 10 Agencies that has highest number of employees\n",
        "plt.figure(figsize=(10,5))\n",
        "salary_cpy.groupby(['Agency'])['Name'].count().sort_values(ascending=False).head(10).plot.bar()\n",
        "plt.ylabel('No Of Employees')\n",
        "plt.title(\"Top Agencies with Highest number of Employees\",fontsize=18)\n",
        "plt.show()"
      ],
      "id": "bdf7a484",
      "execution_count": null,
      "outputs": []
    },
    {
      "cell_type": "markdown",
      "metadata": {
        "id": "7156d171"
      },
      "source": [
        " - The Youth Summer has maximum number of employees followed by Police Department\n",
        " - Fire Department and DPW - Water & Waste Water has almost same number of employees"
      ],
      "id": "7156d171"
    },
    {
      "cell_type": "code",
      "metadata": {
        "id": "75d97baf"
      },
      "source": [
        "#Top 10 Jobs that has highest number of employees\n",
        "plt.figure(figsize=(10,5))\n",
        "salary_cpy.groupby(['AgencyID'])['Name'].count().sort_values(ascending=False).head(10).plot.bar()\n",
        "plt.ylabel('No Of Employees')\n",
        "plt.title(\"Top AgencyID's with Highest number of Employees\",fontsize=18)\n",
        "plt.show()"
      ],
      "id": "75d97baf",
      "execution_count": null,
      "outputs": []
    },
    {
      "cell_type": "markdown",
      "metadata": {
        "id": "1fb1ff44"
      },
      "source": [
        " - The P04001 has maximum number of employees followed by C90786"
      ],
      "id": "1fb1ff44"
    },
    {
      "cell_type": "markdown",
      "metadata": {
        "id": "0797bfde"
      },
      "source": [
        "<font color = '' > Let us check people hired in which year have lowest Salaries. This is to check if as the Hire Year increases the Salary decreases. Because, Salary is high for people who have high experience </font>"
      ],
      "id": "0797bfde"
    },
    {
      "cell_type": "code",
      "metadata": {
        "id": "757801ec"
      },
      "source": [
        "# Salary vs Hire Year\n",
        "plt.figure(figsize=(10,5))\n",
        "salary_cpy.groupby(['HireYear'])['AnnualSalary'].mean().sort_values().head(10).plot.bar()\n",
        "plt.ylabel('AverageSalary')\n",
        "plt.title(\"Average Salary of Employees based on Hire Year\",fontsize=18)\n",
        "plt.show()"
      ],
      "id": "757801ec",
      "execution_count": null,
      "outputs": []
    },
    {
      "cell_type": "markdown",
      "metadata": {
        "id": "9448b698"
      },
      "source": [
        " - The trend above Suggests that the Salary of the employees increases with experience in the company. So now lets calculate experience in days with Agency."
      ],
      "id": "9448b698"
    },
    {
      "cell_type": "code",
      "metadata": {
        "id": "366c167b"
      },
      "source": [
        "# Checking if Month hired has any such effect\n",
        "plt.figure(figsize=(10,5))\n",
        "salary_cpy.groupby(['HireMonth'])['AnnualSalary'].mean().plot.bar()\n",
        "plt.ylabel('Average Salary')\n",
        "plt.title(\"Average Salary of Employees based on Hire Month\",fontsize=18)\n",
        "plt.show()"
      ],
      "id": "366c167b",
      "execution_count": null,
      "outputs": []
    },
    {
      "cell_type": "markdown",
      "metadata": {
        "id": "21d847e1"
      },
      "source": [
        "- Except in Months 5 and 6 the distribution is same throughout.\n",
        "- This might be because big agencies donot hire during that time"
      ],
      "id": "21d847e1"
    },
    {
      "cell_type": "code",
      "metadata": {
        "id": "e024e87b"
      },
      "source": [
        "# Checking on which Month most people are hired\n",
        "plt.figure(figsize=(10,5))\n",
        "salary_cpy.groupby(['HireMonth'])['Name'].count().plot.bar()\n",
        "plt.ylabel('Numer of Hired')\n",
        "plt.title(\"Employers Hirings based on Hire Year\",fontsize=20)\n",
        "plt.show()"
      ],
      "id": "e024e87b",
      "execution_count": null,
      "outputs": []
    },
    {
      "cell_type": "markdown",
      "metadata": {
        "id": "a063ffd5"
      },
      "source": [
        " -  More members are being hired in months of May and June but they have relatively lower average salaries"
      ],
      "id": "a063ffd5"
    },
    {
      "cell_type": "markdown",
      "metadata": {
        "id": "644a3106"
      },
      "source": [
        "##### <font color = ''> Lets check if there is any relation between any of the Numerical variables using [pairplot](http://seaborn.pydata.org/generated/seaborn.pairplot.html)</font>"
      ],
      "id": "644a3106"
    },
    {
      "cell_type": "code",
      "metadata": {
        "id": "986d22d8"
      },
      "source": [
        "# Plot a pair plot\n",
        "plt.figure(figsize=(15,20))\n",
        "sns.pairplot(salary_cpy)\n",
        "plt.show()"
      ],
      "id": "986d22d8",
      "execution_count": null,
      "outputs": []
    },
    {
      "cell_type": "markdown",
      "metadata": {
        "id": "95beff1a"
      },
      "source": [
        "Nothing seems to have any [correlation](https://pandas.pydata.org/pandas-docs/stable/reference/api/pandas.DataFrame.corr.html). Lets visualize correlation coefficients using [heatmap](https://seaborn.pydata.org/generated/seaborn.heatmap.html)"
      ],
      "id": "95beff1a"
    },
    {
      "cell_type": "code",
      "metadata": {
        "id": "f5fe2b5d"
      },
      "source": [
        "# Plot a heatMap\n",
        "plt.figure(figsize=(10,5))\n",
        "sns.heatmap(salary_cpy.corr(),annot=True)"
      ],
      "id": "f5fe2b5d",
      "execution_count": null,
      "outputs": []
    },
    {
      "cell_type": "markdown",
      "metadata": {
        "id": "3e61e9ef"
      },
      "source": [
        "Except for HireYear nothing seems to have significant correlation with Annual Salary"
      ],
      "id": "3e61e9ef"
    },
    {
      "cell_type": "markdown",
      "metadata": {
        "id": "ff40c14e"
      },
      "source": [
        "## <font color='' face='Cursive'> Feature Engineering</font>"
      ],
      "id": "ff40c14e"
    },
    {
      "cell_type": "markdown",
      "metadata": {
        "id": "16440f1b"
      },
      "source": [
        "Let us create a copy of data frame to do model building"
      ],
      "id": "16440f1b"
    },
    {
      "cell_type": "code",
      "metadata": {
        "id": "2c4d17f8",
        "outputId": "b35a317a-b703-4744-af96-c79b2ced5a1f",
        "colab": {
          "base_uri": "https://localhost:8080/",
          "height": 182
        }
      },
      "source": [
        "# Create a copy od data frame\n",
        "salary_master = salary_cpy.copy()"
      ],
      "id": "2c4d17f8",
      "execution_count": 1,
      "outputs": [
        {
          "output_type": "error",
          "ename": "NameError",
          "evalue": "ignored",
          "traceback": [
            "\u001b[0;31m---------------------------------------------------------------------------\u001b[0m",
            "\u001b[0;31mNameError\u001b[0m                                 Traceback (most recent call last)",
            "\u001b[0;32m<ipython-input-1-88ca89b17346>\u001b[0m in \u001b[0;36m<module>\u001b[0;34m()\u001b[0m\n\u001b[1;32m      1\u001b[0m \u001b[0;31m# Create a copy od data frame\u001b[0m\u001b[0;34m\u001b[0m\u001b[0;34m\u001b[0m\u001b[0;34m\u001b[0m\u001b[0m\n\u001b[0;32m----> 2\u001b[0;31m \u001b[0msalary_master\u001b[0m \u001b[0;34m=\u001b[0m \u001b[0msalary_cpy\u001b[0m\u001b[0;34m.\u001b[0m\u001b[0mcopy\u001b[0m\u001b[0;34m(\u001b[0m\u001b[0;34m)\u001b[0m\u001b[0;34m\u001b[0m\u001b[0;34m\u001b[0m\u001b[0m\n\u001b[0m",
            "\u001b[0;31mNameError\u001b[0m: name 'salary_cpy' is not defined"
          ]
        }
      ]
    },
    {
      "cell_type": "markdown",
      "metadata": {
        "id": "551a01b8"
      },
      "source": [
        " &nbsp; <font color='' face='cursive'> Linear Machine learning models can only work with numerical values. For this reason, it is necessary to transform the categorical values of the relevant features into numerical ones. This process is called [feature encoding](https://medium.com/analytics-vidhya/different-type-of-feature-engineering-encoding-techniques-for-categorical-variable-encoding-214363a016fb). </font>\n",
        " \n",
        "\n",
        "   <font color='' face='cursive'>Here We will be using Mean encoding. We are using Mean encoding as the number of labels of categorical variables are very high and so using others might either create unnecessary variables or labelling might not be that appropriate.</font>"
      ],
      "id": "551a01b8"
    },
    {
      "cell_type": "code",
      "metadata": {
        "id": "4de40470"
      },
      "source": [
        "# Apply mean encoding for Job Title\n",
        "mean_Job = salary_master.groupby('JobTitle')['AnnualSalary'].mean()\n",
        "print(mean_Job)\n",
        "salary_master['JobTitle'] = salary_master['JobTitle'].map(mean_Job)\n",
        "\n",
        "print(salary_master['JobTitle'])"
      ],
      "id": "4de40470",
      "execution_count": null,
      "outputs": []
    },
    {
      "cell_type": "code",
      "metadata": {
        "id": "4e0514f2"
      },
      "source": [
        "# Apply mean encoding for Agency\n",
        "mean_agency = salary_master.groupby('Agency')['AnnualSalary'].mean()\n",
        "salary_master['Agency'] = salary_master['Agency'].map(mean_agency)\n",
        "\n",
        "print(salary_master['Agency'])"
      ],
      "id": "4e0514f2",
      "execution_count": null,
      "outputs": []
    },
    {
      "cell_type": "code",
      "metadata": {
        "id": "23766b39"
      },
      "source": [
        "# Apply mean encoding for AgencyID\n",
        "mean_agencyID = salary_master.groupby('AgencyID')['AnnualSalary'].mean()\n",
        "salary_master['AgencyID'] = salary_master['AgencyID'].map(mean_agencyID)\n",
        "\n",
        "print(salary_master['AgencyID'])"
      ],
      "id": "23766b39",
      "execution_count": null,
      "outputs": []
    },
    {
      "cell_type": "markdown",
      "metadata": {
        "id": "5a2d2891"
      },
      "source": [
        "We have converted all the required categorical variables to Numerical variables. Lets check the info to check if trhere are any non-numeric variables"
      ],
      "id": "5a2d2891"
    },
    {
      "cell_type": "code",
      "metadata": {
        "id": "0ce65368"
      },
      "source": [
        "# Check info\n",
        "salary_master.info()"
      ],
      "id": "0ce65368",
      "execution_count": null,
      "outputs": []
    },
    {
      "cell_type": "markdown",
      "metadata": {
        "id": "74297fff"
      },
      "source": [
        " - <font color='' face='cursive'> Since we have HireYear, HireMonth and HireDay , we no longer require Date field</font>\n",
        " - <font color='' face='cursive'> And Annual Income is never based on Name, so it is safe to remove both those columns</font>"
      ],
      "id": "74297fff"
    },
    {
      "cell_type": "code",
      "metadata": {
        "scrolled": true,
        "id": "8e7b9768"
      },
      "source": [
        "# Drop Name, HireDate column\n",
        "salary_master = salary_master.drop(['HireDate','Name'],axis=1)\n",
        "\n",
        "# Check Info\n",
        "salary_master.info()"
      ],
      "id": "8e7b9768",
      "execution_count": null,
      "outputs": []
    },
    {
      "cell_type": "code",
      "metadata": {
        "id": "b0lhz32PukKl"
      },
      "source": [
        "# Plot a pair plot\n",
        "plt.figure(figsize=(25,20))\n",
        "sns.pairplot(salary_master)\n",
        "plt.show()"
      ],
      "id": "b0lhz32PukKl",
      "execution_count": null,
      "outputs": []
    },
    {
      "cell_type": "code",
      "metadata": {
        "id": "lO0RnNO4vUXi"
      },
      "source": [
        "# Plot a heatMap\n",
        "plt.figure(figsize=(10,5))\n",
        "sns.heatmap(salary_master.corr(),annot=True)"
      ],
      "id": "lO0RnNO4vUXi",
      "execution_count": null,
      "outputs": []
    },
    {
      "cell_type": "markdown",
      "metadata": {
        "id": "becab8e0"
      },
      "source": [
        "### <font face='Cursive'> Train Test Split</font>"
      ],
      "id": "becab8e0"
    },
    {
      "cell_type": "markdown",
      "metadata": {
        "id": "9cc80188"
      },
      "source": [
        "#### Split data into train and test set using [train_test_split](https://scikit-learn.org/stable/modules/generated/sklearn.model_selection.train_test_split.html)"
      ],
      "id": "9cc80188"
    },
    {
      "cell_type": "code",
      "metadata": {
        "id": "870e7902"
      },
      "source": [
        "# Split data into train and test sets\n",
        "salary_train, salary_test = train_test_split(salary_master,train_size=0.7, random_state=42)"
      ],
      "id": "870e7902",
      "execution_count": null,
      "outputs": []
    },
    {
      "cell_type": "markdown",
      "metadata": {
        "id": "9d9bcd71"
      },
      "source": [
        " Check sizes of data to know whether they are split correctly"
      ],
      "id": "9d9bcd71"
    },
    {
      "cell_type": "code",
      "metadata": {
        "id": "3bff957b"
      },
      "source": [
        "# Shape of train set\n",
        "print(salary_train.shape)\n",
        "\n",
        "# Shape of test set\n",
        "print(salary_test.shape)"
      ],
      "id": "3bff957b",
      "execution_count": null,
      "outputs": []
    },
    {
      "cell_type": "code",
      "metadata": {
        "id": "jQce7orobpL_"
      },
      "source": [
        "salary_train.head()"
      ],
      "id": "jQce7orobpL_",
      "execution_count": null,
      "outputs": []
    },
    {
      "cell_type": "markdown",
      "metadata": {
        "id": "beed33ec"
      },
      "source": [
        "#### <font color=''> Seperate Dependent and Independent Variables using [pop](https://pandas.pydata.org/pandas-docs/stable/reference/api/pandas.DataFrame.pop.html)</font>"
      ],
      "id": "beed33ec"
    },
    {
      "cell_type": "code",
      "metadata": {
        "id": "cfe00b98"
      },
      "source": [
        "# Divide tarin set into Dependent and independent variables\n",
        "y_train = salary_train.pop('AnnualSalary')\n",
        "\n",
        "X_train = salary_train\n",
        "\n",
        "\n",
        "# Divide test set into Dependent and independent variables\n",
        "y_test = salary_test.pop('AnnualSalary')\n",
        "#print(salary_test)\n",
        "X_test = salary_test\n",
        "\n",
        "print(y_train)\n",
        "print(X_train)"
      ],
      "id": "cfe00b98",
      "execution_count": null,
      "outputs": []
    },
    {
      "cell_type": "markdown",
      "metadata": {
        "id": "b7eb4e8f"
      },
      "source": [
        "### <font color='' face='Cursive'> Scaling</font>\n",
        " &nbsp; <font color='' face='cursive'>Scaling is a technique to standardize the independent features present in the data in a fixed range. We do this to make sure all the features are in same scale.</font>\n",
        "<br><br>\n",
        "There are two types of scaling\n",
        " - Standard Scaling \n",
        " - MinMax Scaling\n",
        "\n",
        "#### Here we will be using  [Standard Scaler](https://scikit-learn.org/stable/modules/generated/sklearn.preprocessing.StandardScaler.html) function of sklearn"
      ],
      "id": "b7eb4e8f"
    },
    {
      "cell_type": "code",
      "metadata": {
        "id": "0e921752"
      },
      "source": [
        "# Scale the train\n",
        "scaler = StandardScaler()\n",
        "\n",
        "X_train = scaler.fit_transform(X_train)\n",
        "\n",
        "X_train.describe()"
      ],
      "id": "0e921752",
      "execution_count": null,
      "outputs": []
    },
    {
      "cell_type": "code",
      "metadata": {
        "id": "nNLk8c9-eilw"
      },
      "source": [
        "X_train"
      ],
      "id": "nNLk8c9-eilw",
      "execution_count": null,
      "outputs": []
    },
    {
      "cell_type": "code",
      "metadata": {
        "id": "7660b80e"
      },
      "source": [
        "# # Scale the test\n",
        "X_test[X_test.columns] = scaler.transform(X_test[X_test.columns])\n",
        "\n",
        "X_test.describe()"
      ],
      "id": "7660b80e",
      "execution_count": null,
      "outputs": []
    },
    {
      "cell_type": "markdown",
      "metadata": {
        "id": "43d53168"
      },
      "source": [
        "### <font color='' face='Cursive'> Model Building</font>\n",
        "\n",
        "#### We are building a [Linear Regression](https://scikit-learn.org/stable/modules/generated/sklearn.linear_model.LinearRegression.html) model for this project"
      ],
      "id": "43d53168"
    },
    {
      "cell_type": "markdown",
      "metadata": {
        "id": "e86f7677"
      },
      "source": [
        " &nbsp; <font color='' face='cursive'>Linear regression may be defined as the statistical model that analyzes the linear relationship between a dependent variable with given set of independent variables. This is used for predicting the independent variables based on relationship between dependent and independent variables.<br>\n",
        "    It is a Supervised Learning Technique i.e., it requires historic data to form a relationship.<br><br>\n",
        "There are two types of Linear Regression:<br>\n",
        "    1. Simple Linear Regression<br>\n",
        "    2. Multiple Linear Regression<br><br>\n",
        "    1.<u><font face='cursive'>Simple Linear Regression:</font></u> It predicts a response using a single feature. The assumption in Simple Linear Regression is that the two variables are linearly related.<br>\n",
        "    <center><font>   h(xi)=b<sub>0</sub> + b<sub>1</sub>.x<sub>i1</sub><br></font></center>\n",
        "    2.<u><font face='cursive'>Multiple Linear Regression:</font></u>It is the extension of simple linear regression that predicts a response using two or more features. Mathematically we can explain it as follows −\n",
        "\n",
        "Consider a dataset having n observations, p features i.e. independent variables and y as one response i.e. dependent variable the regression line for p features can be calculated as follows −\n",
        "    <center> <font >  h(xi)=b<sub>0</sub> + b<sub>1</sub>.x<sub>i1</sub>+ b<sub>2</sub>.x<sub>i2</sub> +..........+ b<sub>p</sub>.x<sub>ip</sub><br></font></center>\n",
        "   \n",
        "Here, h(xi) is the predicted response value and b0,b1,b2…,bp are the regression coefficients."
      ],
      "id": "e86f7677"
    },
    {
      "cell_type": "markdown",
      "metadata": {
        "id": "3a6f8e6d"
      },
      "source": [
        "#### Let's see how a Linear Regression Works"
      ],
      "id": "3a6f8e6d"
    },
    {
      "cell_type": "code",
      "metadata": {
        "id": "4793bfb1"
      },
      "source": [
        "# A sample Data Frame\n",
        "example_df = pd.DataFrame({'Performance' : [1,2,3,4,5,6], 'Grade':[2,5,4,6,1,3],'Target':[100,300,200,600,200,600]})\n",
        "example_df"
      ],
      "id": "4793bfb1",
      "execution_count": null,
      "outputs": []
    },
    {
      "cell_type": "markdown",
      "metadata": {
        "id": "f74e670f"
      },
      "source": [
        "<font color='' face='Cursive'>Let's take an example Salary prediction for hiring employees, and the salary that would be offered is the Target based on independent variables Performance which is performance in the interview and Grade being the Job Grade thaey are being hired for.</font>\n",
        "\n",
        "<font color='' face='Cursive'>As discussed Earlier, we have to find relationship between the dependent and independent variables, which is quite easy as we have packages to do the same. Lets build a model to predict Salaries.</font>"
      ],
      "id": "f74e670f"
    },
    {
      "cell_type": "code",
      "metadata": {
        "id": "725fe08f"
      },
      "source": [
        "# Create a model by creating a Linear Regression Object\n",
        "example_lr = LinearRegression()\n",
        "\n",
        "example_model = example_lr.fit(example_df[['Performance','Grade']],example_df['Target'])"
      ],
      "id": "725fe08f",
      "execution_count": null,
      "outputs": []
    },
    {
      "cell_type": "markdown",
      "metadata": {
        "id": "8a1105f8"
      },
      "source": [
        "<font color='' face='Cursive'>Now that the model is built let us check the coefficients and Intercept</font>"
      ],
      "id": "8a1105f8"
    },
    {
      "cell_type": "code",
      "metadata": {
        "id": "0a47e9f4"
      },
      "source": [
        "# Lets have a look at coefficients as described\n",
        "print(example_lr.coef_)\n",
        "print(example_lr.intercept_)"
      ],
      "id": "0a47e9f4",
      "execution_count": null,
      "outputs": []
    },
    {
      "cell_type": "markdown",
      "metadata": {
        "id": "837094d5"
      },
      "source": [
        "<font color='' face='Cursive'> It is now understood that the model is generated and its equation can be defined as </font>\n",
        "   <font color='' face='Cursive'> -226.667 + 85*Performance + 75 * Grade </font>\n",
        "\n",
        "<font color='' face='Cursive'> But how well/ accurate is the predicted values of the model. For any Linear regression model, we generally use R<sup>2</sup> to find the same</font>\n",
        "\n",
        "<u><font color='' face='cursive'>R-squared</font></u> <font color='' face='Cursive'>R-squared is a statistical measure that represents the goodness of fit of a regression model. The ideal value for r-square is 1. The closer the value of r-square to 1, the better is the model fitted.So we haave to [calculate R-Squared](https://www.k2analytics.co.in/r-squared-in-linear-regression/) for the same<br></font>\n",
        "\n",
        "<font color='' face='Cursive'> However this made easy by sklearn and can be calculated as below </font>"
      ],
      "id": "837094d5"
    },
    {
      "cell_type": "code",
      "metadata": {
        "id": "3875c2b7"
      },
      "source": [
        "# Calculate R-squared\n",
        "example_model.score(example_df[['Performance','Grade']],example_df['Target'])"
      ],
      "id": "3875c2b7",
      "execution_count": null,
      "outputs": []
    },
    {
      "cell_type": "markdown",
      "metadata": {
        "id": "bce8a5ca"
      },
      "source": [
        "<font color='' face='Cursive'> So the model we created is able to predict the results with an accuracy of 82%</font>\n",
        "\n",
        "<font color='' face='Cursive'> But that's not all.. we have to verify if our model satisfies  [assumptions of Linear Regression](https://blog.uwgb.edu/bansalg/statistics-data-analytics/linear-regression/what-are-the-four-assumptions-of-linear-regression/).</font>"
      ],
      "id": "bce8a5ca"
    },
    {
      "cell_type": "code",
      "metadata": {
        "id": "fcc91d44"
      },
      "source": [
        "# Plot Distribution plot of Residuals\n",
        "plt.figure(figsize=(10,5))\n",
        "target_pred = example_model.predict(example_df[['Performance','Grade']])\n",
        "example_res = example_df['Target'] - target_pred\n",
        "print(example_res)\n",
        "sns.distplot(example_res)\n",
        "plt.xlabel('example_res')\n",
        "plt.title(\"Residual Analysis\",fontsize=20)\n",
        "plt.show()"
      ],
      "id": "fcc91d44",
      "execution_count": null,
      "outputs": []
    },
    {
      "cell_type": "markdown",
      "metadata": {
        "id": "baa69c6f"
      },
      "source": [
        "As can be seen Error Terms are Normally Distributed"
      ],
      "id": "baa69c6f"
    },
    {
      "cell_type": "code",
      "metadata": {
        "id": "59442fd5"
      },
      "source": [
        "sns.scatterplot(x=example_res,y=target_pred)\n",
        "plt.xlabel('Residuals')\n",
        "plt.title(\"Residual Analysis\",fontsize=20)\n",
        "plt.show()"
      ],
      "id": "59442fd5",
      "execution_count": null,
      "outputs": []
    },
    {
      "cell_type": "markdown",
      "metadata": {
        "id": "ec1ba57a"
      },
      "source": [
        "And there is no specific relation and are independent of each other"
      ],
      "id": "ec1ba57a"
    },
    {
      "cell_type": "markdown",
      "metadata": {
        "id": "81a87d61"
      },
      "source": [
        "##### <font color='' face='Cursive'> Lets use the same to build our Model</font>"
      ],
      "id": "81a87d61"
    },
    {
      "cell_type": "markdown",
      "metadata": {
        "id": "81db9dcf"
      },
      "source": [
        "#### Generate a Linear Regression model by passing the X_train and y_train as inputs"
      ],
      "id": "81db9dcf"
    },
    {
      "cell_type": "code",
      "metadata": {
        "id": "a2b199f7"
      },
      "source": [
        "# Build the model\n",
        "lr = LinearRegression()\n",
        "\n",
        "salary_reg = lr.fit(X_train,y_train)"
      ],
      "id": "a2b199f7",
      "execution_count": null,
      "outputs": []
    },
    {
      "cell_type": "markdown",
      "metadata": {
        "id": "cfcd8b26"
      },
      "source": [
        "Let us check the R-squared"
      ],
      "id": "cfcd8b26"
    },
    {
      "cell_type": "code",
      "metadata": {
        "scrolled": true,
        "id": "06aabdc2"
      },
      "source": [
        "# Verify the r2 score\n",
        "salary_reg.score(X_train,y_train)"
      ],
      "id": "06aabdc2",
      "execution_count": null,
      "outputs": []
    },
    {
      "cell_type": "markdown",
      "metadata": {
        "id": "ef7d8a5f"
      },
      "source": [
        "##### <font color='' face='Cursive'> We got a very high value for R-squared which is very close to 1, which means the independent variables are able to expalin 96% of  variance in the dependent variable.</font>"
      ],
      "id": "ef7d8a5f"
    },
    {
      "cell_type": "markdown",
      "metadata": {
        "id": "f87991ab"
      },
      "source": [
        "### <font color='' face='Cursive'> Model Evaluation</font>"
      ],
      "id": "f87991ab"
    },
    {
      "cell_type": "markdown",
      "metadata": {
        "id": "2f57ba3a"
      },
      "source": [
        "##### <font color='' face='Cursive'> Even though our model performs well on train data, that doesn't mean the model is a good model. The model should perform equally good on the test data as well, i.e., data the model has not encountered till now.</font>\n",
        "\n",
        "##### <font color='' face='Cursive'> So lets check how model performs on test data</font>"
      ],
      "id": "2f57ba3a"
    },
    {
      "cell_type": "code",
      "metadata": {
        "id": "ccfbd12b"
      },
      "source": [
        "# r2 for test data\n",
        "salary_reg.score(X_test,y_test)"
      ],
      "id": "ccfbd12b",
      "execution_count": null,
      "outputs": []
    },
    {
      "cell_type": "markdown",
      "metadata": {
        "id": "c8b306e7"
      },
      "source": [
        "##### <font color='' face='Cursive'> The model performs well on the test data as well giving an R-squared of 0.963, which indicates the model generated is a good model and can be used for predicting the Salaries of Employees in Baltimore</font>"
      ],
      "id": "c8b306e7"
    },
    {
      "cell_type": "markdown",
      "metadata": {
        "id": "c4fb7b9c"
      },
      "source": [
        "##### <font color='' face='Cursive'><u> Note: </u></font> \n",
        "- <font color='' face='Cursive'> Here we did not face any issue of [Overfitting](https://machinelearningmastery.com/overfitting-and-underfitting-with-machine-learning-algorithms/) even though we used all the columns. But in most models using all the columns will lead to Overfitting, which can be addressed by [Regularization](https://medium.com/analytics-vidhya/lasso-and-ridge-the-regularized-linear-regression-2d85384badf3).</font>\n"
      ],
      "id": "c4fb7b9c"
    },
    {
      "cell_type": "markdown",
      "metadata": {
        "id": "74a9d220"
      },
      "source": [
        "#### Let's plot distribution plot to check whether Residuals satisfy [assumptions of Linear Regression](https://blog.uwgb.edu/bansalg/statistics-data-analytics/linear-regression/what-are-the-four-assumptions-of-linear-regression/)"
      ],
      "id": "74a9d220"
    },
    {
      "cell_type": "code",
      "metadata": {
        "scrolled": true,
        "id": "046eece6"
      },
      "source": [
        "# Plot Distribution plot of Residuals\n",
        "plt.figure(figsize=(10,5))\n",
        "y_train_pred = salary_reg.predict(X_train)\n",
        "res = y_train - y_train_pred\n",
        "sns.distplot(res)\n",
        "plt.xlabel('Residuals')\n",
        "plt.title(\"Residual Analysis\",fontsize=20)\n",
        "plt.show()"
      ],
      "id": "046eece6",
      "execution_count": null,
      "outputs": []
    },
    {
      "cell_type": "markdown",
      "metadata": {
        "id": "6d1877f1"
      },
      "source": [
        " - The Residual terms are normally distributed with mean at 0, which is one of the Assumption of Linear Regression"
      ],
      "id": "6d1877f1"
    },
    {
      "cell_type": "code",
      "metadata": {
        "id": "b1924659"
      },
      "source": [
        "sns.scatterplot(x=res,y=y_train_pred)\n",
        "plt.xlabel('Residuals')\n",
        "plt.title(\"Residual Analysis\",fontsize=20)\n",
        "plt.show()"
      ],
      "id": "b1924659",
      "execution_count": null,
      "outputs": []
    },
    {
      "cell_type": "markdown",
      "metadata": {
        "id": "843d39c3"
      },
      "source": [
        " - The Residuals are independent of each other ,which is another assumption in Linear Regression"
      ],
      "id": "843d39c3"
    },
    {
      "cell_type": "markdown",
      "metadata": {
        "id": "29e25cfb"
      },
      "source": [
        "##### <font color='' face='Cursive'> The model has generated can be used for Salary prediction .Let us check the coefficients and intercept </font>"
      ],
      "id": "29e25cfb"
    },
    {
      "cell_type": "code",
      "metadata": {
        "id": "7575bbbc"
      },
      "source": [
        "# Print coef\n",
        "print(\"Coef are:\",salary_reg.coef_)\n",
        "\n",
        "#print intercept\n",
        "print(\"Intercept is\",salary_reg.intercept_)"
      ],
      "id": "7575bbbc",
      "execution_count": null,
      "outputs": []
    },
    {
      "cell_type": "markdown",
      "metadata": {
        "id": "17c47f75"
      },
      "source": [
        "##### <font color='' face='Cursive'> Let us create a model equation and store it in a string</font>"
      ],
      "id": "17c47f75"
    },
    {
      "cell_type": "code",
      "metadata": {
        "id": "8555d52c"
      },
      "source": [
        "model = str(salary_reg.intercept_)\n",
        "\n",
        "for i in range(len(salary_reg.coef_)):\n",
        "    model = model +' + '  +(str(salary_reg.coef_[i])) + ' * ' +(str(X_train.columns[i]))\n",
        "print(model)"
      ],
      "id": "8555d52c",
      "execution_count": null,
      "outputs": []
    },
    {
      "cell_type": "markdown",
      "metadata": {
        "id": "2b0e0bd3"
      },
      "source": [
        "#### <i><font color='' face='Cursive'>Observations from Model:</font></i>\n",
        " - Of all the features given  AgencyID,JobTitle and HireYear are the major driver for expaining the variance of Annual Salary as they have higher coefficient value.\n",
        " - Out of the above features, Hire Year is negatively related to Annual Salary which is same as we have seen while performing EDA."
      ],
      "id": "2b0e0bd3"
    }
  ]
}