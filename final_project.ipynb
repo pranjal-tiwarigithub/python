{
  "cells": [
    {
      "cell_type": "markdown",
      "metadata": {
        "id": "pjctBSIAZrCj"
      },
      "source": [
        "# Using Python for Research: Final Project\n",
        "## Introduction:\n",
        "The goal of this project is to set up a statistical model which is able to predict the type of physical activity (e.g. walking, climbing stairs), based on data obtained from tri-axial smartphone accelerometers. \n",
        "\n",
        "The model developed here will classify any new input data into one of four categories: 1 = standing, 2 = walking, 3 = stairs down and 4 = stairs up. The input data will consist of the mutually perpendicular components of acceleration in space (x, y, z), which then our model will classify.\n",
        "\n",
        "In order to train our model in the first place, we have already been provided with two files: 'train_time_series.csv' for the tri-axial data, and 'train_labels.csv' for the correctly labeled classes. Furthermore, we have also been provided with two additional files, 'test_time_series.csv' and 'test_labels.csv', where will store our predictions made by the model we have just trained.\n",
        "\n",
        "The key steps that we performed in this project were:\n",
        "1)  First and foremost, import the training data, inspect it and clean it.\n",
        "2)  Next, set up variables and appropriate dataframes, to use as the covariates and outcomes.\n",
        "3) After that, set up and use a logistic regression model and a random forest classifier, and compare their accuracies on the training data.\n",
        "4) Pick the model with the higher accuracy, and use it to predict the labels of the test time series data.\n",
        "5) Finally, store the predictions in the file named 'train_labels_complete.csv'."
      ]
    },
    {
      "source": [
        "## In the first section, we will import the training data, inspect it, and clean it."
      ],
      "cell_type": "markdown",
      "metadata": {
        "id": "EZFm4aY6ZrCq"
      }
    },
    {
      "source": [
        "This block will import the necessary modules for us."
      ],
      "cell_type": "markdown",
      "metadata": {
        "id": "xGkqA5D8ZrCr"
      }
    },
    {
      "cell_type": "code",
      "execution_count": null,
      "metadata": {
        "collapsed": true,
        "id": "ToNmhXZEZrCr"
      },
      "outputs": [],
      "source": [
        "import time # we will the need the time module in order to measure the time elapsed in running the program\n",
        "start_time = time.clock() # the clock is started on this line, before importing any other module or executing any other line of code.\n",
        "\n",
        "import pandas as pd # the pandas module will enable me to view and manipulate data\n",
        "import numpy as np  # the numpy module will enable me to carry out calculations quickly and efficiently.\n",
        "\n",
        "import warnings     # this will supress a few unnecessary warnings; don't worry about it!\n",
        "warnings.filterwarnings(\"ignore\")"
      ]
    },
    {
      "source": [
        "In the following block, we will import the training data and remove any rows which contain invalid data. The training data is finally stored as a pandas dataframe; you may have a look at its head below."
      ],
      "cell_type": "markdown",
      "metadata": {
        "id": "6FXKx56qZrCs"
      }
    },
    {
      "cell_type": "code",
      "execution_count": null,
      "metadata": {
        "id": "7pAQv6TuZrCt",
        "outputId": "9ace5cfa-28d2-4a2a-f471-8d5781d90778"
      },
      "outputs": [
        {
          "output_type": "execute_result",
          "data": {
            "text/plain": [
              "           timestamp                 UTC time accuracy         x         y  \\\n",
              "20589  1565109931087  2019-08-06T16:45:31.087  unknown -0.053802 -0.987701   \n",
              "20599  1565109932090  2019-08-06T16:45:32.090  unknown  0.013718 -0.852371   \n",
              "20609  1565109933092  2019-08-06T16:45:33.092  unknown  0.145584 -1.007843   \n",
              "20619  1565109934094  2019-08-06T16:45:34.094  unknown -0.099380 -1.209686   \n",
              "20629  1565109935097  2019-08-06T16:45:35.097  unknown  0.082794 -1.001434   \n",
              "\n",
              "              z  label  \n",
              "20589  0.068985    1.0  \n",
              "20599 -0.000870    1.0  \n",
              "20609 -0.036819    1.0  \n",
              "20619  0.304489    1.0  \n",
              "20629 -0.025375    1.0  "
            ],
            "text/html": "<div>\n<style>\n    .dataframe thead tr:only-child th {\n        text-align: right;\n    }\n\n    .dataframe thead th {\n        text-align: left;\n    }\n\n    .dataframe tbody tr th {\n        vertical-align: top;\n    }\n</style>\n<table border=\"1\" class=\"dataframe\">\n  <thead>\n    <tr style=\"text-align: right;\">\n      <th></th>\n      <th>timestamp</th>\n      <th>UTC time</th>\n      <th>accuracy</th>\n      <th>x</th>\n      <th>y</th>\n      <th>z</th>\n      <th>label</th>\n    </tr>\n  </thead>\n  <tbody>\n    <tr>\n      <th>20589</th>\n      <td>1565109931087</td>\n      <td>2019-08-06T16:45:31.087</td>\n      <td>unknown</td>\n      <td>-0.053802</td>\n      <td>-0.987701</td>\n      <td>0.068985</td>\n      <td>1.0</td>\n    </tr>\n    <tr>\n      <th>20599</th>\n      <td>1565109932090</td>\n      <td>2019-08-06T16:45:32.090</td>\n      <td>unknown</td>\n      <td>0.013718</td>\n      <td>-0.852371</td>\n      <td>-0.000870</td>\n      <td>1.0</td>\n    </tr>\n    <tr>\n      <th>20609</th>\n      <td>1565109933092</td>\n      <td>2019-08-06T16:45:33.092</td>\n      <td>unknown</td>\n      <td>0.145584</td>\n      <td>-1.007843</td>\n      <td>-0.036819</td>\n      <td>1.0</td>\n    </tr>\n    <tr>\n      <th>20619</th>\n      <td>1565109934094</td>\n      <td>2019-08-06T16:45:34.094</td>\n      <td>unknown</td>\n      <td>-0.099380</td>\n      <td>-1.209686</td>\n      <td>0.304489</td>\n      <td>1.0</td>\n    </tr>\n    <tr>\n      <th>20629</th>\n      <td>1565109935097</td>\n      <td>2019-08-06T16:45:35.097</td>\n      <td>unknown</td>\n      <td>0.082794</td>\n      <td>-1.001434</td>\n      <td>-0.025375</td>\n      <td>1.0</td>\n    </tr>\n  </tbody>\n</table>\n</div>"
          },
          "metadata": {},
          "execution_count": 2
        }
      ],
      "source": [
        "# okay, so we begin here. First, we will import the training data (along with the labels), and eventually merge it into a single pandas dataframe called 'df_train'\n",
        "df_train = pd.read_csv(\"train_time_series.csv\", index_col=0)\n",
        "df_labels = pd.read_csv(\"train_labels.csv\", index_col=0)\n",
        "\n",
        "df_train['label'] = df_labels['label']\n",
        "df_train = df_train.replace([np.inf, -np.inf], np.nan) # this line (and the following one) will remove any rows of data containing 'NaN'\n",
        "df_train = df_train.dropna(how=\"any\")\n",
        "\n",
        "# note: only those rows are considered for which a label was provided.\n",
        "df_train.head()"
      ]
    },
    {
      "source": [
        "In this block, we will set up the classification_target as 'label', because this is what we want to classify with our model. The covariates are also defined in the same block. Finally, we will also have a look at the skew of the covariates."
      ],
      "cell_type": "markdown",
      "metadata": {
        "id": "c_ZDbJStZrCu"
      }
    },
    {
      "cell_type": "code",
      "execution_count": null,
      "metadata": {
        "id": "pwubKHkHZrCv",
        "outputId": "e681a863-fbd6-480d-e9e4-00dfeffe0c91"
      },
      "outputs": [
        {
          "output_type": "execute_result",
          "data": {
            "text/plain": [
              "x        0.294193\n",
              "y       -1.111177\n",
              "z        1.319239\n",
              "label    0.601406\n",
              "dtype: float64"
            ]
          },
          "metadata": {},
          "execution_count": 3
        }
      ],
      "source": [
        "classification_target = 'label' # I define my classification target here, namely 'label'.\n",
        "continuous_covariates = ['x', 'y', 'z'] # the covariates which will be used to train the model (and later make predictions)\n",
        "\n",
        "outcomes_and_continuous_covariates = continuous_covariates + [classification_target]\n",
        "df_train[outcomes_and_continuous_covariates].skew() # these two lines will tell me how the data is currently skewed. Notice how the 'x' and 'z' data are right skewed? We will now correct this. (You don't have to worry about 'label'; that is merely our classification target)"
      ]
    },
    {
      "source": [
        "As you can see, the 'x' and 'z' components of the acceleration have a right skew; in order to rectify this, I will apply a transformation to these variables. It is a good idea to take the logarithm of these components. However, the log function is not defined for non-positive inputs, so to make sure that we don't get NaNs all over, we will take the logarithm of the component plus a small number."
      ],
      "cell_type": "markdown",
      "metadata": {
        "id": "6xWNED3iZrCv"
      }
    },
    {
      "cell_type": "code",
      "execution_count": null,
      "metadata": {
        "id": "TkdR1bY0ZrCw",
        "outputId": "6fb84bfa-dc1b-4a84-c385-def8de06b73b"
      },
      "outputs": [
        {
          "output_type": "stream",
          "name": "stdout",
          "text": [
            "x       -0.568802\ny       -1.111177\nz       -0.194454\nlabel    0.601406\ndtype: float64\n"
          ]
        }
      ],
      "source": [
        "for covariate in ['x', 'z']:\n",
        "    df_train[covariate] = df_train[covariate].apply(lambda x: np.log10(2+x))\n",
        "\n",
        "print(df_train[outcomes_and_continuous_covariates].skew()) # I have simple transformed the 'x' and 'z' columns so that now they are no longer right skewed."
      ]
    },
    {
      "source": [
        "## In this section, we will set up our models and train them.\n",
        "Next, we will import a few modules from the 'scikit-learn' statistical models, as these are already available to us, and they are also designed to use shortcut methods which would be difficult for us to implement from scratch with our current skills (atleast that is what I believe!)"
      ],
      "cell_type": "markdown",
      "metadata": {
        "id": "FsKyDsNVZrCw"
      }
    },
    {
      "cell_type": "code",
      "execution_count": null,
      "metadata": {
        "collapsed": true,
        "id": "SBYIDk7xZrCx"
      },
      "outputs": [],
      "source": [
        "from sklearn.model_selection import cross_val_score\n",
        "from sklearn.linear_model import LogisticRegression\n",
        "from sklearn.ensemble import RandomForestClassifier\n",
        "\n",
        "from sklearn.metrics import accuracy_score\n",
        "\n",
        "import matplotlib.pyplot as plt\n",
        "\n",
        "# these modules are necessary in order to use the helpful 'scikit-learn' statistical models.\n",
        "# matplotlib.pyplot will be used to draw any plots."
      ]
    },
    {
      "source": [
        "In the following block of code, we will set up the logistic regression and random forest classifier models, along with our defined classification target and the covariates.\n",
        "\n",
        "Note: I have decided to use a random state of 0 for the random forest classifier to compare my results accross different runs."
      ],
      "cell_type": "markdown",
      "metadata": {
        "id": "vrbvzOlAZrCx"
      }
    },
    {
      "cell_type": "code",
      "execution_count": null,
      "metadata": {
        "collapsed": true,
        "id": "9XxOJnTAZrCx"
      },
      "outputs": [],
      "source": [
        "classification_target = 'label'\n",
        "all_covariates = ['x', 'y', 'z']\n",
        "classification_outcome = df_train[classification_target]\n",
        "covariates = df_train[all_covariates] # these four lines of code define my classification outcomes and covariates, which are found in the df_train dataframe.\n",
        "\n",
        "logistic_regression = LogisticRegression()\n",
        "forest_classifier = RandomForestClassifier(max_depth=4, random_state=0) # I have simply instantiated the LogisticRegression and ForestClassifier (with a maximum depth of 4) models here. We will soon compare which one performs better on our training data."
      ]
    },
    {
      "source": [
        "I have defined an accuracy function over here, which will be used later on for cross-validation, in order to estimate how good our models will perform on unseen data (and to compare our two models against each other)."
      ],
      "cell_type": "markdown",
      "metadata": {
        "id": "ddTHwrtcZrCy"
      }
    },
    {
      "cell_type": "code",
      "execution_count": null,
      "metadata": {
        "collapsed": true,
        "id": "_izeLFUZZrCy"
      },
      "outputs": [],
      "source": [
        "# this function right here will compute the accuracy between the observed outcome y and the outcome predicted by the model.\n",
        "def accuracy(estimator, X, y):\n",
        "    predictions = estimator.fit(X, y).predict(X)\n",
        "    return accuracy_score(y, predictions)"
      ]
    },
    {
      "source": [
        "## Results:\n",
        "You can see from the plot below that the random forest classifier performs much better than the linear classifier. Hence, we will go ahead and use the random forest classifier to make future predictions on unseen data."
      ],
      "cell_type": "markdown",
      "metadata": {
        "id": "PhI1Tie7ZrCy"
      }
    },
    {
      "cell_type": "code",
      "execution_count": null,
      "metadata": {
        "id": "OTV0WRQ-ZrCy",
        "outputId": "6efba8af-4996-4a07-bcf9-6cdd39fe87cb"
      },
      "outputs": [
        {
          "output_type": "display_data",
          "data": {
            "text/plain": "<matplotlib.figure.Figure at 0x18f9dbec6a0>",
            "image/svg+xml": "<?xml version=\"1.0\" encoding=\"utf-8\" standalone=\"no\"?>\r\n<!DOCTYPE svg PUBLIC \"-//W3C//DTD SVG 1.1//EN\"\r\n  \"http://www.w3.org/Graphics/SVG/1.1/DTD/svg11.dtd\">\r\n<!-- Created with matplotlib (http://matplotlib.org/) -->\r\n<svg height=\"265pt\" version=\"1.1\" viewBox=\"0 0 276 265\" width=\"276pt\" xmlns=\"http://www.w3.org/2000/svg\" xmlns:xlink=\"http://www.w3.org/1999/xlink\">\r\n <defs>\r\n  <style type=\"text/css\">\r\n*{stroke-linecap:butt;stroke-linejoin:round;}\r\n  </style>\r\n </defs>\r\n <g id=\"figure_1\">\r\n  <g id=\"patch_1\">\r\n   <path d=\"M 0 265.995469 \r\nL 276.372813 265.995469 \r\nL 276.372813 0 \r\nL 0 0 \r\nz\r\n\" style=\"fill:none;\"/>\r\n  </g>\r\n  <g id=\"axes_1\">\r\n   <g id=\"patch_2\">\r\n    <path d=\"M 43.78125 228.439219 \r\nL 261.22125 228.439219 \r\nL 261.22125 10.999219 \r\nL 43.78125 10.999219 \r\nz\r\n\" style=\"fill:#ffffff;\"/>\r\n   </g>\r\n   <g id=\"PathCollection_1\">\r\n    <defs>\r\n     <path d=\"M 0 3 \r\nC 0.795609 3 1.55874 2.683901 2.12132 2.12132 \r\nC 2.683901 1.55874 3 0.795609 3 0 \r\nC 3 -0.795609 2.683901 -1.55874 2.12132 -2.12132 \r\nC 1.55874 -2.683901 0.795609 -3 0 -3 \r\nC -0.795609 -3 -1.55874 -2.683901 -2.12132 -2.12132 \r\nC -2.683901 -1.55874 -3 -0.795609 -3 0 \r\nC -3 0.795609 -2.683901 1.55874 -2.12132 2.12132 \r\nC -1.55874 2.683901 -0.795609 3 0 3 \r\nz\r\n\" id=\"m7f192990ad\" style=\"stroke:#800080;\"/>\r\n    </defs>\r\n    <g clip-path=\"url(#p50281ac182)\">\r\n     <use style=\"fill:#800080;stroke:#800080;\" x=\"166.439712\" xlink:href=\"#m7f192990ad\" y=\"27.725373\"/>\r\n     <use style=\"fill:#800080;stroke:#800080;\" x=\"166.439712\" xlink:href=\"#m7f192990ad\" y=\"33.300757\"/>\r\n     <use style=\"fill:#800080;stroke:#800080;\" x=\"166.439712\" xlink:href=\"#m7f192990ad\" y=\"22.149988\"/>\r\n     <use style=\"fill:#800080;stroke:#800080;\" x=\"163.945461\" xlink:href=\"#m7f192990ad\" y=\"45.33185\"/>\r\n     <use style=\"fill:#800080;stroke:#800080;\" x=\"163.945461\" xlink:href=\"#m7f192990ad\" y=\"45.33185\"/>\r\n     <use style=\"fill:#800080;stroke:#800080;\" x=\"163.945461\" xlink:href=\"#m7f192990ad\" y=\"33.88764\"/>\r\n     <use style=\"fill:#800080;stroke:#800080;\" x=\"163.945461\" xlink:href=\"#m7f192990ad\" y=\"45.33185\"/>\r\n     <use style=\"fill:#800080;stroke:#800080;\" x=\"170.62125\" xlink:href=\"#m7f192990ad\" y=\"29.119219\"/>\r\n     <use style=\"fill:#800080;stroke:#800080;\" x=\"174.24525\" xlink:href=\"#m7f192990ad\" y=\"35.849504\"/>\r\n     <use style=\"fill:#800080;stroke:#800080;\" x=\"174.24525\" xlink:href=\"#m7f192990ad\" y=\"29.636933\"/>\r\n    </g>\r\n   </g>\r\n   <g id=\"matplotlib.axis_1\">\r\n    <g id=\"xtick_1\">\r\n     <g id=\"line2d_1\">\r\n      <defs>\r\n       <path d=\"M 0 0 \r\nL 0 3.5 \r\n\" id=\"md478238fd2\" style=\"stroke:#000000;stroke-width:0.8;\"/>\r\n      </defs>\r\n      <g>\r\n       <use style=\"stroke:#000000;stroke-width:0.8;\" x=\"43.78125\" xlink:href=\"#md478238fd2\" y=\"228.439219\"/>\r\n      </g>\r\n     </g>\r\n     <g id=\"text_1\">\r\n      <!-- 0.0 -->\r\n      <defs>\r\n       <path d=\"M 31.78125 66.40625 \r\nQ 24.171875 66.40625 20.328125 58.90625 \r\nQ 16.5 51.421875 16.5 36.375 \r\nQ 16.5 21.390625 20.328125 13.890625 \r\nQ 24.171875 6.390625 31.78125 6.390625 \r\nQ 39.453125 6.390625 43.28125 13.890625 \r\nQ 47.125 21.390625 47.125 36.375 \r\nQ 47.125 51.421875 43.28125 58.90625 \r\nQ 39.453125 66.40625 31.78125 66.40625 \r\nz\r\nM 31.78125 74.21875 \r\nQ 44.046875 74.21875 50.515625 64.515625 \r\nQ 56.984375 54.828125 56.984375 36.375 \r\nQ 56.984375 17.96875 50.515625 8.265625 \r\nQ 44.046875 -1.421875 31.78125 -1.421875 \r\nQ 19.53125 -1.421875 13.0625 8.265625 \r\nQ 6.59375 17.96875 6.59375 36.375 \r\nQ 6.59375 54.828125 13.0625 64.515625 \r\nQ 19.53125 74.21875 31.78125 74.21875 \r\nz\r\n\" id=\"DejaVuSans-30\"/>\r\n       <path d=\"M 10.6875 12.40625 \r\nL 21 12.40625 \r\nL 21 0 \r\nL 10.6875 0 \r\nz\r\n\" id=\"DejaVuSans-2e\"/>\r\n      </defs>\r\n      <g transform=\"translate(35.829688 243.037656)scale(0.1 -0.1)\">\r\n       <use xlink:href=\"#DejaVuSans-30\"/>\r\n       <use x=\"63.623047\" xlink:href=\"#DejaVuSans-2e\"/>\r\n       <use x=\"95.410156\" xlink:href=\"#DejaVuSans-30\"/>\r\n      </g>\r\n     </g>\r\n    </g>\r\n    <g id=\"xtick_2\">\r\n     <g id=\"line2d_2\">\r\n      <g>\r\n       <use style=\"stroke:#000000;stroke-width:0.8;\" x=\"87.26925\" xlink:href=\"#md478238fd2\" y=\"228.439219\"/>\r\n      </g>\r\n     </g>\r\n     <g id=\"text_2\">\r\n      <!-- 0.2 -->\r\n      <defs>\r\n       <path d=\"M 19.1875 8.296875 \r\nL 53.609375 8.296875 \r\nL 53.609375 0 \r\nL 7.328125 0 \r\nL 7.328125 8.296875 \r\nQ 12.9375 14.109375 22.625 23.890625 \r\nQ 32.328125 33.6875 34.8125 36.53125 \r\nQ 39.546875 41.84375 41.421875 45.53125 \r\nQ 43.3125 49.21875 43.3125 52.78125 \r\nQ 43.3125 58.59375 39.234375 62.25 \r\nQ 35.15625 65.921875 28.609375 65.921875 \r\nQ 23.96875 65.921875 18.8125 64.3125 \r\nQ 13.671875 62.703125 7.8125 59.421875 \r\nL 7.8125 69.390625 \r\nQ 13.765625 71.78125 18.9375 73 \r\nQ 24.125 74.21875 28.421875 74.21875 \r\nQ 39.75 74.21875 46.484375 68.546875 \r\nQ 53.21875 62.890625 53.21875 53.421875 \r\nQ 53.21875 48.921875 51.53125 44.890625 \r\nQ 49.859375 40.875 45.40625 35.40625 \r\nQ 44.1875 33.984375 37.640625 27.21875 \r\nQ 31.109375 20.453125 19.1875 8.296875 \r\nz\r\n\" id=\"DejaVuSans-32\"/>\r\n      </defs>\r\n      <g transform=\"translate(79.317688 243.037656)scale(0.1 -0.1)\">\r\n       <use xlink:href=\"#DejaVuSans-30\"/>\r\n       <use x=\"63.623047\" xlink:href=\"#DejaVuSans-2e\"/>\r\n       <use x=\"95.410156\" xlink:href=\"#DejaVuSans-32\"/>\r\n      </g>\r\n     </g>\r\n    </g>\r\n    <g id=\"xtick_3\">\r\n     <g id=\"line2d_3\">\r\n      <g>\r\n       <use style=\"stroke:#000000;stroke-width:0.8;\" x=\"130.75725\" xlink:href=\"#md478238fd2\" y=\"228.439219\"/>\r\n      </g>\r\n     </g>\r\n     <g id=\"text_3\">\r\n      <!-- 0.4 -->\r\n      <defs>\r\n       <path d=\"M 37.796875 64.3125 \r\nL 12.890625 25.390625 \r\nL 37.796875 25.390625 \r\nz\r\nM 35.203125 72.90625 \r\nL 47.609375 72.90625 \r\nL 47.609375 25.390625 \r\nL 58.015625 25.390625 \r\nL 58.015625 17.1875 \r\nL 47.609375 17.1875 \r\nL 47.609375 0 \r\nL 37.796875 0 \r\nL 37.796875 17.1875 \r\nL 4.890625 17.1875 \r\nL 4.890625 26.703125 \r\nz\r\n\" id=\"DejaVuSans-34\"/>\r\n      </defs>\r\n      <g transform=\"translate(122.805688 243.037656)scale(0.1 -0.1)\">\r\n       <use xlink:href=\"#DejaVuSans-30\"/>\r\n       <use x=\"63.623047\" xlink:href=\"#DejaVuSans-2e\"/>\r\n       <use x=\"95.410156\" xlink:href=\"#DejaVuSans-34\"/>\r\n      </g>\r\n     </g>\r\n    </g>\r\n    <g id=\"xtick_4\">\r\n     <g id=\"line2d_4\">\r\n      <g>\r\n       <use style=\"stroke:#000000;stroke-width:0.8;\" x=\"174.24525\" xlink:href=\"#md478238fd2\" y=\"228.439219\"/>\r\n      </g>\r\n     </g>\r\n     <g id=\"text_4\">\r\n      <!-- 0.6 -->\r\n      <defs>\r\n       <path d=\"M 33.015625 40.375 \r\nQ 26.375 40.375 22.484375 35.828125 \r\nQ 18.609375 31.296875 18.609375 23.390625 \r\nQ 18.609375 15.53125 22.484375 10.953125 \r\nQ 26.375 6.390625 33.015625 6.390625 \r\nQ 39.65625 6.390625 43.53125 10.953125 \r\nQ 47.40625 15.53125 47.40625 23.390625 \r\nQ 47.40625 31.296875 43.53125 35.828125 \r\nQ 39.65625 40.375 33.015625 40.375 \r\nz\r\nM 52.59375 71.296875 \r\nL 52.59375 62.3125 \r\nQ 48.875 64.0625 45.09375 64.984375 \r\nQ 41.3125 65.921875 37.59375 65.921875 \r\nQ 27.828125 65.921875 22.671875 59.328125 \r\nQ 17.53125 52.734375 16.796875 39.40625 \r\nQ 19.671875 43.65625 24.015625 45.921875 \r\nQ 28.375 48.1875 33.59375 48.1875 \r\nQ 44.578125 48.1875 50.953125 41.515625 \r\nQ 57.328125 34.859375 57.328125 23.390625 \r\nQ 57.328125 12.15625 50.6875 5.359375 \r\nQ 44.046875 -1.421875 33.015625 -1.421875 \r\nQ 20.359375 -1.421875 13.671875 8.265625 \r\nQ 6.984375 17.96875 6.984375 36.375 \r\nQ 6.984375 53.65625 15.1875 63.9375 \r\nQ 23.390625 74.21875 37.203125 74.21875 \r\nQ 40.921875 74.21875 44.703125 73.484375 \r\nQ 48.484375 72.75 52.59375 71.296875 \r\nz\r\n\" id=\"DejaVuSans-36\"/>\r\n      </defs>\r\n      <g transform=\"translate(166.293688 243.037656)scale(0.1 -0.1)\">\r\n       <use xlink:href=\"#DejaVuSans-30\"/>\r\n       <use x=\"63.623047\" xlink:href=\"#DejaVuSans-2e\"/>\r\n       <use x=\"95.410156\" xlink:href=\"#DejaVuSans-36\"/>\r\n      </g>\r\n     </g>\r\n    </g>\r\n    <g id=\"xtick_5\">\r\n     <g id=\"line2d_5\">\r\n      <g>\r\n       <use style=\"stroke:#000000;stroke-width:0.8;\" x=\"217.73325\" xlink:href=\"#md478238fd2\" y=\"228.439219\"/>\r\n      </g>\r\n     </g>\r\n     <g id=\"text_5\">\r\n      <!-- 0.8 -->\r\n      <defs>\r\n       <path d=\"M 31.78125 34.625 \r\nQ 24.75 34.625 20.71875 30.859375 \r\nQ 16.703125 27.09375 16.703125 20.515625 \r\nQ 16.703125 13.921875 20.71875 10.15625 \r\nQ 24.75 6.390625 31.78125 6.390625 \r\nQ 38.8125 6.390625 42.859375 10.171875 \r\nQ 46.921875 13.96875 46.921875 20.515625 \r\nQ 46.921875 27.09375 42.890625 30.859375 \r\nQ 38.875 34.625 31.78125 34.625 \r\nz\r\nM 21.921875 38.8125 \r\nQ 15.578125 40.375 12.03125 44.71875 \r\nQ 8.5 49.078125 8.5 55.328125 \r\nQ 8.5 64.0625 14.71875 69.140625 \r\nQ 20.953125 74.21875 31.78125 74.21875 \r\nQ 42.671875 74.21875 48.875 69.140625 \r\nQ 55.078125 64.0625 55.078125 55.328125 \r\nQ 55.078125 49.078125 51.53125 44.71875 \r\nQ 48 40.375 41.703125 38.8125 \r\nQ 48.828125 37.15625 52.796875 32.3125 \r\nQ 56.78125 27.484375 56.78125 20.515625 \r\nQ 56.78125 9.90625 50.3125 4.234375 \r\nQ 43.84375 -1.421875 31.78125 -1.421875 \r\nQ 19.734375 -1.421875 13.25 4.234375 \r\nQ 6.78125 9.90625 6.78125 20.515625 \r\nQ 6.78125 27.484375 10.78125 32.3125 \r\nQ 14.796875 37.15625 21.921875 38.8125 \r\nz\r\nM 18.3125 54.390625 \r\nQ 18.3125 48.734375 21.84375 45.5625 \r\nQ 25.390625 42.390625 31.78125 42.390625 \r\nQ 38.140625 42.390625 41.71875 45.5625 \r\nQ 45.3125 48.734375 45.3125 54.390625 \r\nQ 45.3125 60.0625 41.71875 63.234375 \r\nQ 38.140625 66.40625 31.78125 66.40625 \r\nQ 25.390625 66.40625 21.84375 63.234375 \r\nQ 18.3125 60.0625 18.3125 54.390625 \r\nz\r\n\" id=\"DejaVuSans-38\"/>\r\n      </defs>\r\n      <g transform=\"translate(209.781688 243.037656)scale(0.1 -0.1)\">\r\n       <use xlink:href=\"#DejaVuSans-30\"/>\r\n       <use x=\"63.623047\" xlink:href=\"#DejaVuSans-2e\"/>\r\n       <use x=\"95.410156\" xlink:href=\"#DejaVuSans-38\"/>\r\n      </g>\r\n     </g>\r\n    </g>\r\n    <g id=\"xtick_6\">\r\n     <g id=\"line2d_6\">\r\n      <g>\r\n       <use style=\"stroke:#000000;stroke-width:0.8;\" x=\"261.22125\" xlink:href=\"#md478238fd2\" y=\"228.439219\"/>\r\n      </g>\r\n     </g>\r\n     <g id=\"text_6\">\r\n      <!-- 1.0 -->\r\n      <defs>\r\n       <path d=\"M 12.40625 8.296875 \r\nL 28.515625 8.296875 \r\nL 28.515625 63.921875 \r\nL 10.984375 60.40625 \r\nL 10.984375 69.390625 \r\nL 28.421875 72.90625 \r\nL 38.28125 72.90625 \r\nL 38.28125 8.296875 \r\nL 54.390625 8.296875 \r\nL 54.390625 0 \r\nL 12.40625 0 \r\nz\r\n\" id=\"DejaVuSans-31\"/>\r\n      </defs>\r\n      <g transform=\"translate(253.269688 243.037656)scale(0.1 -0.1)\">\r\n       <use xlink:href=\"#DejaVuSans-31\"/>\r\n       <use x=\"63.623047\" xlink:href=\"#DejaVuSans-2e\"/>\r\n       <use x=\"95.410156\" xlink:href=\"#DejaVuSans-30\"/>\r\n      </g>\r\n     </g>\r\n    </g>\r\n    <g id=\"text_7\">\r\n     <!-- Linear Classification Score -->\r\n     <defs>\r\n      <path d=\"M 9.8125 72.90625 \r\nL 19.671875 72.90625 \r\nL 19.671875 8.296875 \r\nL 55.171875 8.296875 \r\nL 55.171875 0 \r\nL 9.8125 0 \r\nz\r\n\" id=\"DejaVuSans-4c\"/>\r\n      <path d=\"M 9.421875 54.6875 \r\nL 18.40625 54.6875 \r\nL 18.40625 0 \r\nL 9.421875 0 \r\nz\r\nM 9.421875 75.984375 \r\nL 18.40625 75.984375 \r\nL 18.40625 64.59375 \r\nL 9.421875 64.59375 \r\nz\r\n\" id=\"DejaVuSans-69\"/>\r\n      <path d=\"M 54.890625 33.015625 \r\nL 54.890625 0 \r\nL 45.90625 0 \r\nL 45.90625 32.71875 \r\nQ 45.90625 40.484375 42.875 44.328125 \r\nQ 39.84375 48.1875 33.796875 48.1875 \r\nQ 26.515625 48.1875 22.3125 43.546875 \r\nQ 18.109375 38.921875 18.109375 30.90625 \r\nL 18.109375 0 \r\nL 9.078125 0 \r\nL 9.078125 54.6875 \r\nL 18.109375 54.6875 \r\nL 18.109375 46.1875 \r\nQ 21.34375 51.125 25.703125 53.5625 \r\nQ 30.078125 56 35.796875 56 \r\nQ 45.21875 56 50.046875 50.171875 \r\nQ 54.890625 44.34375 54.890625 33.015625 \r\nz\r\n\" id=\"DejaVuSans-6e\"/>\r\n      <path d=\"M 56.203125 29.59375 \r\nL 56.203125 25.203125 \r\nL 14.890625 25.203125 \r\nQ 15.484375 15.921875 20.484375 11.0625 \r\nQ 25.484375 6.203125 34.421875 6.203125 \r\nQ 39.59375 6.203125 44.453125 7.46875 \r\nQ 49.3125 8.734375 54.109375 11.28125 \r\nL 54.109375 2.78125 \r\nQ 49.265625 0.734375 44.1875 -0.34375 \r\nQ 39.109375 -1.421875 33.890625 -1.421875 \r\nQ 20.796875 -1.421875 13.15625 6.1875 \r\nQ 5.515625 13.8125 5.515625 26.8125 \r\nQ 5.515625 40.234375 12.765625 48.109375 \r\nQ 20.015625 56 32.328125 56 \r\nQ 43.359375 56 49.78125 48.890625 \r\nQ 56.203125 41.796875 56.203125 29.59375 \r\nz\r\nM 47.21875 32.234375 \r\nQ 47.125 39.59375 43.09375 43.984375 \r\nQ 39.0625 48.390625 32.421875 48.390625 \r\nQ 24.90625 48.390625 20.390625 44.140625 \r\nQ 15.875 39.890625 15.1875 32.171875 \r\nz\r\n\" id=\"DejaVuSans-65\"/>\r\n      <path d=\"M 34.28125 27.484375 \r\nQ 23.390625 27.484375 19.1875 25 \r\nQ 14.984375 22.515625 14.984375 16.5 \r\nQ 14.984375 11.71875 18.140625 8.90625 \r\nQ 21.296875 6.109375 26.703125 6.109375 \r\nQ 34.1875 6.109375 38.703125 11.40625 \r\nQ 43.21875 16.703125 43.21875 25.484375 \r\nL 43.21875 27.484375 \r\nz\r\nM 52.203125 31.203125 \r\nL 52.203125 0 \r\nL 43.21875 0 \r\nL 43.21875 8.296875 \r\nQ 40.140625 3.328125 35.546875 0.953125 \r\nQ 30.953125 -1.421875 24.3125 -1.421875 \r\nQ 15.921875 -1.421875 10.953125 3.296875 \r\nQ 6 8.015625 6 15.921875 \r\nQ 6 25.140625 12.171875 29.828125 \r\nQ 18.359375 34.515625 30.609375 34.515625 \r\nL 43.21875 34.515625 \r\nL 43.21875 35.40625 \r\nQ 43.21875 41.609375 39.140625 45 \r\nQ 35.0625 48.390625 27.6875 48.390625 \r\nQ 23 48.390625 18.546875 47.265625 \r\nQ 14.109375 46.140625 10.015625 43.890625 \r\nL 10.015625 52.203125 \r\nQ 14.9375 54.109375 19.578125 55.046875 \r\nQ 24.21875 56 28.609375 56 \r\nQ 40.484375 56 46.34375 49.84375 \r\nQ 52.203125 43.703125 52.203125 31.203125 \r\nz\r\n\" id=\"DejaVuSans-61\"/>\r\n      <path d=\"M 41.109375 46.296875 \r\nQ 39.59375 47.171875 37.8125 47.578125 \r\nQ 36.03125 48 33.890625 48 \r\nQ 26.265625 48 22.1875 43.046875 \r\nQ 18.109375 38.09375 18.109375 28.8125 \r\nL 18.109375 0 \r\nL 9.078125 0 \r\nL 9.078125 54.6875 \r\nL 18.109375 54.6875 \r\nL 18.109375 46.1875 \r\nQ 20.953125 51.171875 25.484375 53.578125 \r\nQ 30.03125 56 36.53125 56 \r\nQ 37.453125 56 38.578125 55.875 \r\nQ 39.703125 55.765625 41.0625 55.515625 \r\nz\r\n\" id=\"DejaVuSans-72\"/>\r\n      <path id=\"DejaVuSans-20\"/>\r\n      <path d=\"M 64.40625 67.28125 \r\nL 64.40625 56.890625 \r\nQ 59.421875 61.53125 53.78125 63.8125 \r\nQ 48.140625 66.109375 41.796875 66.109375 \r\nQ 29.296875 66.109375 22.65625 58.46875 \r\nQ 16.015625 50.828125 16.015625 36.375 \r\nQ 16.015625 21.96875 22.65625 14.328125 \r\nQ 29.296875 6.6875 41.796875 6.6875 \r\nQ 48.140625 6.6875 53.78125 8.984375 \r\nQ 59.421875 11.28125 64.40625 15.921875 \r\nL 64.40625 5.609375 \r\nQ 59.234375 2.09375 53.4375 0.328125 \r\nQ 47.65625 -1.421875 41.21875 -1.421875 \r\nQ 24.65625 -1.421875 15.125 8.703125 \r\nQ 5.609375 18.84375 5.609375 36.375 \r\nQ 5.609375 53.953125 15.125 64.078125 \r\nQ 24.65625 74.21875 41.21875 74.21875 \r\nQ 47.75 74.21875 53.53125 72.484375 \r\nQ 59.328125 70.75 64.40625 67.28125 \r\nz\r\n\" id=\"DejaVuSans-43\"/>\r\n      <path d=\"M 9.421875 75.984375 \r\nL 18.40625 75.984375 \r\nL 18.40625 0 \r\nL 9.421875 0 \r\nz\r\n\" id=\"DejaVuSans-6c\"/>\r\n      <path d=\"M 44.28125 53.078125 \r\nL 44.28125 44.578125 \r\nQ 40.484375 46.53125 36.375 47.5 \r\nQ 32.28125 48.484375 27.875 48.484375 \r\nQ 21.1875 48.484375 17.84375 46.4375 \r\nQ 14.5 44.390625 14.5 40.28125 \r\nQ 14.5 37.15625 16.890625 35.375 \r\nQ 19.28125 33.59375 26.515625 31.984375 \r\nL 29.59375 31.296875 \r\nQ 39.15625 29.25 43.1875 25.515625 \r\nQ 47.21875 21.78125 47.21875 15.09375 \r\nQ 47.21875 7.46875 41.1875 3.015625 \r\nQ 35.15625 -1.421875 24.609375 -1.421875 \r\nQ 20.21875 -1.421875 15.453125 -0.5625 \r\nQ 10.6875 0.296875 5.421875 2 \r\nL 5.421875 11.28125 \r\nQ 10.40625 8.6875 15.234375 7.390625 \r\nQ 20.0625 6.109375 24.8125 6.109375 \r\nQ 31.15625 6.109375 34.5625 8.28125 \r\nQ 37.984375 10.453125 37.984375 14.40625 \r\nQ 37.984375 18.0625 35.515625 20.015625 \r\nQ 33.0625 21.96875 24.703125 23.78125 \r\nL 21.578125 24.515625 \r\nQ 13.234375 26.265625 9.515625 29.90625 \r\nQ 5.8125 33.546875 5.8125 39.890625 \r\nQ 5.8125 47.609375 11.28125 51.796875 \r\nQ 16.75 56 26.8125 56 \r\nQ 31.78125 56 36.171875 55.265625 \r\nQ 40.578125 54.546875 44.28125 53.078125 \r\nz\r\n\" id=\"DejaVuSans-73\"/>\r\n      <path d=\"M 37.109375 75.984375 \r\nL 37.109375 68.5 \r\nL 28.515625 68.5 \r\nQ 23.6875 68.5 21.796875 66.546875 \r\nQ 19.921875 64.59375 19.921875 59.515625 \r\nL 19.921875 54.6875 \r\nL 34.71875 54.6875 \r\nL 34.71875 47.703125 \r\nL 19.921875 47.703125 \r\nL 19.921875 0 \r\nL 10.890625 0 \r\nL 10.890625 47.703125 \r\nL 2.296875 47.703125 \r\nL 2.296875 54.6875 \r\nL 10.890625 54.6875 \r\nL 10.890625 58.5 \r\nQ 10.890625 67.625 15.140625 71.796875 \r\nQ 19.390625 75.984375 28.609375 75.984375 \r\nz\r\n\" id=\"DejaVuSans-66\"/>\r\n      <path d=\"M 48.78125 52.59375 \r\nL 48.78125 44.1875 \r\nQ 44.96875 46.296875 41.140625 47.34375 \r\nQ 37.3125 48.390625 33.40625 48.390625 \r\nQ 24.65625 48.390625 19.8125 42.84375 \r\nQ 14.984375 37.3125 14.984375 27.296875 \r\nQ 14.984375 17.28125 19.8125 11.734375 \r\nQ 24.65625 6.203125 33.40625 6.203125 \r\nQ 37.3125 6.203125 41.140625 7.25 \r\nQ 44.96875 8.296875 48.78125 10.40625 \r\nL 48.78125 2.09375 \r\nQ 45.015625 0.34375 40.984375 -0.53125 \r\nQ 36.96875 -1.421875 32.421875 -1.421875 \r\nQ 20.0625 -1.421875 12.78125 6.34375 \r\nQ 5.515625 14.109375 5.515625 27.296875 \r\nQ 5.515625 40.671875 12.859375 48.328125 \r\nQ 20.21875 56 33.015625 56 \r\nQ 37.15625 56 41.109375 55.140625 \r\nQ 45.0625 54.296875 48.78125 52.59375 \r\nz\r\n\" id=\"DejaVuSans-63\"/>\r\n      <path d=\"M 18.3125 70.21875 \r\nL 18.3125 54.6875 \r\nL 36.8125 54.6875 \r\nL 36.8125 47.703125 \r\nL 18.3125 47.703125 \r\nL 18.3125 18.015625 \r\nQ 18.3125 11.328125 20.140625 9.421875 \r\nQ 21.96875 7.515625 27.59375 7.515625 \r\nL 36.8125 7.515625 \r\nL 36.8125 0 \r\nL 27.59375 0 \r\nQ 17.1875 0 13.234375 3.875 \r\nQ 9.28125 7.765625 9.28125 18.015625 \r\nL 9.28125 47.703125 \r\nL 2.6875 47.703125 \r\nL 2.6875 54.6875 \r\nL 9.28125 54.6875 \r\nL 9.28125 70.21875 \r\nz\r\n\" id=\"DejaVuSans-74\"/>\r\n      <path d=\"M 30.609375 48.390625 \r\nQ 23.390625 48.390625 19.1875 42.75 \r\nQ 14.984375 37.109375 14.984375 27.296875 \r\nQ 14.984375 17.484375 19.15625 11.84375 \r\nQ 23.34375 6.203125 30.609375 6.203125 \r\nQ 37.796875 6.203125 41.984375 11.859375 \r\nQ 46.1875 17.53125 46.1875 27.296875 \r\nQ 46.1875 37.015625 41.984375 42.703125 \r\nQ 37.796875 48.390625 30.609375 48.390625 \r\nz\r\nM 30.609375 56 \r\nQ 42.328125 56 49.015625 48.375 \r\nQ 55.71875 40.765625 55.71875 27.296875 \r\nQ 55.71875 13.875 49.015625 6.21875 \r\nQ 42.328125 -1.421875 30.609375 -1.421875 \r\nQ 18.84375 -1.421875 12.171875 6.21875 \r\nQ 5.515625 13.875 5.515625 27.296875 \r\nQ 5.515625 40.765625 12.171875 48.375 \r\nQ 18.84375 56 30.609375 56 \r\nz\r\n\" id=\"DejaVuSans-6f\"/>\r\n      <path d=\"M 53.515625 70.515625 \r\nL 53.515625 60.890625 \r\nQ 47.90625 63.578125 42.921875 64.890625 \r\nQ 37.9375 66.21875 33.296875 66.21875 \r\nQ 25.25 66.21875 20.875 63.09375 \r\nQ 16.5 59.96875 16.5 54.203125 \r\nQ 16.5 49.359375 19.40625 46.890625 \r\nQ 22.3125 44.4375 30.421875 42.921875 \r\nL 36.375 41.703125 \r\nQ 47.40625 39.59375 52.65625 34.296875 \r\nQ 57.90625 29 57.90625 20.125 \r\nQ 57.90625 9.515625 50.796875 4.046875 \r\nQ 43.703125 -1.421875 29.984375 -1.421875 \r\nQ 24.8125 -1.421875 18.96875 -0.25 \r\nQ 13.140625 0.921875 6.890625 3.21875 \r\nL 6.890625 13.375 \r\nQ 12.890625 10.015625 18.65625 8.296875 \r\nQ 24.421875 6.59375 29.984375 6.59375 \r\nQ 38.421875 6.59375 43.015625 9.90625 \r\nQ 47.609375 13.234375 47.609375 19.390625 \r\nQ 47.609375 24.75 44.3125 27.78125 \r\nQ 41.015625 30.8125 33.5 32.328125 \r\nL 27.484375 33.5 \r\nQ 16.453125 35.6875 11.515625 40.375 \r\nQ 6.59375 45.0625 6.59375 53.421875 \r\nQ 6.59375 63.09375 13.40625 68.65625 \r\nQ 20.21875 74.21875 32.171875 74.21875 \r\nQ 37.3125 74.21875 42.625 73.28125 \r\nQ 47.953125 72.359375 53.515625 70.515625 \r\nz\r\n\" id=\"DejaVuSans-53\"/>\r\n     </defs>\r\n     <g transform=\"translate(86.587188 256.715781)scale(0.1 -0.1)\">\r\n      <use xlink:href=\"#DejaVuSans-4c\"/>\r\n      <use x=\"55.712891\" xlink:href=\"#DejaVuSans-69\"/>\r\n      <use x=\"83.496094\" xlink:href=\"#DejaVuSans-6e\"/>\r\n      <use x=\"146.875\" xlink:href=\"#DejaVuSans-65\"/>\r\n      <use x=\"208.398438\" xlink:href=\"#DejaVuSans-61\"/>\r\n      <use x=\"269.677734\" xlink:href=\"#DejaVuSans-72\"/>\r\n      <use x=\"310.791016\" xlink:href=\"#DejaVuSans-20\"/>\r\n      <use x=\"342.578125\" xlink:href=\"#DejaVuSans-43\"/>\r\n      <use x=\"412.402344\" xlink:href=\"#DejaVuSans-6c\"/>\r\n      <use x=\"440.185547\" xlink:href=\"#DejaVuSans-61\"/>\r\n      <use x=\"501.464844\" xlink:href=\"#DejaVuSans-73\"/>\r\n      <use x=\"553.564453\" xlink:href=\"#DejaVuSans-73\"/>\r\n      <use x=\"605.664062\" xlink:href=\"#DejaVuSans-69\"/>\r\n      <use x=\"633.447266\" xlink:href=\"#DejaVuSans-66\"/>\r\n      <use x=\"668.652344\" xlink:href=\"#DejaVuSans-69\"/>\r\n      <use x=\"696.435547\" xlink:href=\"#DejaVuSans-63\"/>\r\n      <use x=\"751.416016\" xlink:href=\"#DejaVuSans-61\"/>\r\n      <use x=\"812.695312\" xlink:href=\"#DejaVuSans-74\"/>\r\n      <use x=\"851.904297\" xlink:href=\"#DejaVuSans-69\"/>\r\n      <use x=\"879.6875\" xlink:href=\"#DejaVuSans-6f\"/>\r\n      <use x=\"940.869141\" xlink:href=\"#DejaVuSans-6e\"/>\r\n      <use x=\"1004.248047\" xlink:href=\"#DejaVuSans-20\"/>\r\n      <use x=\"1036.035156\" xlink:href=\"#DejaVuSans-53\"/>\r\n      <use x=\"1099.511719\" xlink:href=\"#DejaVuSans-63\"/>\r\n      <use x=\"1154.492188\" xlink:href=\"#DejaVuSans-6f\"/>\r\n      <use x=\"1215.673828\" xlink:href=\"#DejaVuSans-72\"/>\r\n      <use x=\"1256.755859\" xlink:href=\"#DejaVuSans-65\"/>\r\n     </g>\r\n    </g>\r\n   </g>\r\n   <g id=\"matplotlib.axis_2\">\r\n    <g id=\"ytick_1\">\r\n     <g id=\"line2d_7\">\r\n      <defs>\r\n       <path d=\"M 0 0 \r\nL -3.5 0 \r\n\" id=\"mc209bfe5c6\" style=\"stroke:#000000;stroke-width:0.8;\"/>\r\n      </defs>\r\n      <g>\r\n       <use style=\"stroke:#000000;stroke-width:0.8;\" x=\"43.78125\" xlink:href=\"#mc209bfe5c6\" y=\"228.439219\"/>\r\n      </g>\r\n     </g>\r\n     <g id=\"text_8\">\r\n      <!-- 0.0 -->\r\n      <g transform=\"translate(20.878125 232.238437)scale(0.1 -0.1)\">\r\n       <use xlink:href=\"#DejaVuSans-30\"/>\r\n       <use x=\"63.623047\" xlink:href=\"#DejaVuSans-2e\"/>\r\n       <use x=\"95.410156\" xlink:href=\"#DejaVuSans-30\"/>\r\n      </g>\r\n     </g>\r\n    </g>\r\n    <g id=\"ytick_2\">\r\n     <g id=\"line2d_8\">\r\n      <g>\r\n       <use style=\"stroke:#000000;stroke-width:0.8;\" x=\"43.78125\" xlink:href=\"#mc209bfe5c6\" y=\"184.951219\"/>\r\n      </g>\r\n     </g>\r\n     <g id=\"text_9\">\r\n      <!-- 0.2 -->\r\n      <g transform=\"translate(20.878125 188.750437)scale(0.1 -0.1)\">\r\n       <use xlink:href=\"#DejaVuSans-30\"/>\r\n       <use x=\"63.623047\" xlink:href=\"#DejaVuSans-2e\"/>\r\n       <use x=\"95.410156\" xlink:href=\"#DejaVuSans-32\"/>\r\n      </g>\r\n     </g>\r\n    </g>\r\n    <g id=\"ytick_3\">\r\n     <g id=\"line2d_9\">\r\n      <g>\r\n       <use style=\"stroke:#000000;stroke-width:0.8;\" x=\"43.78125\" xlink:href=\"#mc209bfe5c6\" y=\"141.463219\"/>\r\n      </g>\r\n     </g>\r\n     <g id=\"text_10\">\r\n      <!-- 0.4 -->\r\n      <g transform=\"translate(20.878125 145.262437)scale(0.1 -0.1)\">\r\n       <use xlink:href=\"#DejaVuSans-30\"/>\r\n       <use x=\"63.623047\" xlink:href=\"#DejaVuSans-2e\"/>\r\n       <use x=\"95.410156\" xlink:href=\"#DejaVuSans-34\"/>\r\n      </g>\r\n     </g>\r\n    </g>\r\n    <g id=\"ytick_4\">\r\n     <g id=\"line2d_10\">\r\n      <g>\r\n       <use style=\"stroke:#000000;stroke-width:0.8;\" x=\"43.78125\" xlink:href=\"#mc209bfe5c6\" y=\"97.975219\"/>\r\n      </g>\r\n     </g>\r\n     <g id=\"text_11\">\r\n      <!-- 0.6 -->\r\n      <g transform=\"translate(20.878125 101.774437)scale(0.1 -0.1)\">\r\n       <use xlink:href=\"#DejaVuSans-30\"/>\r\n       <use x=\"63.623047\" xlink:href=\"#DejaVuSans-2e\"/>\r\n       <use x=\"95.410156\" xlink:href=\"#DejaVuSans-36\"/>\r\n      </g>\r\n     </g>\r\n    </g>\r\n    <g id=\"ytick_5\">\r\n     <g id=\"line2d_11\">\r\n      <g>\r\n       <use style=\"stroke:#000000;stroke-width:0.8;\" x=\"43.78125\" xlink:href=\"#mc209bfe5c6\" y=\"54.487219\"/>\r\n      </g>\r\n     </g>\r\n     <g id=\"text_12\">\r\n      <!-- 0.8 -->\r\n      <g transform=\"translate(20.878125 58.286437)scale(0.1 -0.1)\">\r\n       <use xlink:href=\"#DejaVuSans-30\"/>\r\n       <use x=\"63.623047\" xlink:href=\"#DejaVuSans-2e\"/>\r\n       <use x=\"95.410156\" xlink:href=\"#DejaVuSans-38\"/>\r\n      </g>\r\n     </g>\r\n    </g>\r\n    <g id=\"ytick_6\">\r\n     <g id=\"line2d_12\">\r\n      <g>\r\n       <use style=\"stroke:#000000;stroke-width:0.8;\" x=\"43.78125\" xlink:href=\"#mc209bfe5c6\" y=\"10.999219\"/>\r\n      </g>\r\n     </g>\r\n     <g id=\"text_13\">\r\n      <!-- 1.0 -->\r\n      <g transform=\"translate(20.878125 14.798437)scale(0.1 -0.1)\">\r\n       <use xlink:href=\"#DejaVuSans-31\"/>\r\n       <use x=\"63.623047\" xlink:href=\"#DejaVuSans-2e\"/>\r\n       <use x=\"95.410156\" xlink:href=\"#DejaVuSans-30\"/>\r\n      </g>\r\n     </g>\r\n    </g>\r\n    <g id=\"text_14\">\r\n     <!-- Forest Classification Score -->\r\n     <defs>\r\n      <path d=\"M 9.8125 72.90625 \r\nL 51.703125 72.90625 \r\nL 51.703125 64.59375 \r\nL 19.671875 64.59375 \r\nL 19.671875 43.109375 \r\nL 48.578125 43.109375 \r\nL 48.578125 34.8125 \r\nL 19.671875 34.8125 \r\nL 19.671875 0 \r\nL 9.8125 0 \r\nz\r\n\" id=\"DejaVuSans-46\"/>\r\n     </defs>\r\n     <g transform=\"translate(14.798438 185.721563)rotate(-90)scale(0.1 -0.1)\">\r\n      <use xlink:href=\"#DejaVuSans-46\"/>\r\n      <use x=\"57.472656\" xlink:href=\"#DejaVuSans-6f\"/>\r\n      <use x=\"118.654297\" xlink:href=\"#DejaVuSans-72\"/>\r\n      <use x=\"159.736328\" xlink:href=\"#DejaVuSans-65\"/>\r\n      <use x=\"221.259766\" xlink:href=\"#DejaVuSans-73\"/>\r\n      <use x=\"273.359375\" xlink:href=\"#DejaVuSans-74\"/>\r\n      <use x=\"312.568359\" xlink:href=\"#DejaVuSans-20\"/>\r\n      <use x=\"344.355469\" xlink:href=\"#DejaVuSans-43\"/>\r\n      <use x=\"414.179688\" xlink:href=\"#DejaVuSans-6c\"/>\r\n      <use x=\"441.962891\" xlink:href=\"#DejaVuSans-61\"/>\r\n      <use x=\"503.242188\" xlink:href=\"#DejaVuSans-73\"/>\r\n      <use x=\"555.341797\" xlink:href=\"#DejaVuSans-73\"/>\r\n      <use x=\"607.441406\" xlink:href=\"#DejaVuSans-69\"/>\r\n      <use x=\"635.224609\" xlink:href=\"#DejaVuSans-66\"/>\r\n      <use x=\"670.429688\" xlink:href=\"#DejaVuSans-69\"/>\r\n      <use x=\"698.212891\" xlink:href=\"#DejaVuSans-63\"/>\r\n      <use x=\"753.193359\" xlink:href=\"#DejaVuSans-61\"/>\r\n      <use x=\"814.472656\" xlink:href=\"#DejaVuSans-74\"/>\r\n      <use x=\"853.681641\" xlink:href=\"#DejaVuSans-69\"/>\r\n      <use x=\"881.464844\" xlink:href=\"#DejaVuSans-6f\"/>\r\n      <use x=\"942.646484\" xlink:href=\"#DejaVuSans-6e\"/>\r\n      <use x=\"1006.025391\" xlink:href=\"#DejaVuSans-20\"/>\r\n      <use x=\"1037.8125\" xlink:href=\"#DejaVuSans-53\"/>\r\n      <use x=\"1101.289062\" xlink:href=\"#DejaVuSans-63\"/>\r\n      <use x=\"1156.269531\" xlink:href=\"#DejaVuSans-6f\"/>\r\n      <use x=\"1217.451172\" xlink:href=\"#DejaVuSans-72\"/>\r\n      <use x=\"1258.533203\" xlink:href=\"#DejaVuSans-65\"/>\r\n     </g>\r\n    </g>\r\n   </g>\r\n   <g id=\"line2d_13\">\r\n    <path clip-path=\"url(#p50281ac182)\" d=\"M 43.78125 228.439219 \r\nL 261.22125 10.999219 \r\n\" style=\"fill:none;stroke:#ff0000;stroke-linecap:square;stroke-width:1.5;\"/>\r\n   </g>\r\n   <g id=\"patch_3\">\r\n    <path d=\"M 43.78125 228.439219 \r\nL 43.78125 10.999219 \r\n\" style=\"fill:none;stroke:#000000;stroke-linecap:square;stroke-linejoin:miter;stroke-width:0.8;\"/>\r\n   </g>\r\n   <g id=\"patch_4\">\r\n    <path d=\"M 261.22125 228.439219 \r\nL 261.22125 10.999219 \r\n\" style=\"fill:none;stroke:#000000;stroke-linecap:square;stroke-linejoin:miter;stroke-width:0.8;\"/>\r\n   </g>\r\n   <g id=\"patch_5\">\r\n    <path d=\"M 43.78125 228.439219 \r\nL 261.22125 228.439219 \r\n\" style=\"fill:none;stroke:#000000;stroke-linecap:square;stroke-linejoin:miter;stroke-width:0.8;\"/>\r\n   </g>\r\n   <g id=\"patch_6\">\r\n    <path d=\"M 43.78125 10.999219 \r\nL 261.22125 10.999219 \r\n\" style=\"fill:none;stroke:#000000;stroke-linecap:square;stroke-linejoin:miter;stroke-width:0.8;\"/>\r\n   </g>\r\n  </g>\r\n </g>\r\n <defs>\r\n  <clipPath id=\"p50281ac182\">\r\n   <rect height=\"217.44\" width=\"217.44\" x=\"43.78125\" y=\"10.999219\"/>\r\n  </clipPath>\r\n </defs>\r\n</svg>\r\n",
            "image/png": "[encoded data removed]"
          },
          "metadata": {}
        }
      ],
      "source": [
        "# Determine the cross-validated accuracy for logistic and random forest models.\n",
        "logistic_regression_scores = cross_val_score(logistic_regression, covariates, classification_outcome, cv=10, scoring=accuracy)\n",
        "forest_classification_scores = cross_val_score(forest_classifier, covariates, classification_outcome, cv=10, scoring=accuracy)\n",
        "\n",
        "# Plot Results\n",
        "plt.axes().set_aspect('equal', 'box')\n",
        "plt.scatter(logistic_regression_scores, forest_classification_scores, color='purple')\n",
        "plt.plot((0, 1), (0, 1), 'k-', color='red')\n",
        "\n",
        "plt.xlim(0, 1)\n",
        "plt.ylim(0, 1)\n",
        "plt.xlabel(\"Linear Classification Score\")\n",
        "plt.ylabel(\"Forest Classification Score\")\n",
        "\n",
        "plt.show()\n",
        "# upon plotting these results, you will see that the forest classifier predicts better than the linear classifier (since all of the data points are above the line y = x, this means that the y-coordinates are all greater than the x-coordinates, i.e. the scores for the forest classifier are higher than the corresponding linear classifier scores.)"
      ]
    },
    {
      "source": [
        "## The final section: we will now make predictions with our chosen model.\n",
        "We're in the endgame now. In this block of code, we will import the test_time_series.csv data as a pandas dataframe, and perform a few necessary operations on it."
      ],
      "cell_type": "markdown",
      "metadata": {
        "id": "hKOqWSPHZrCz"
      }
    },
    {
      "cell_type": "code",
      "execution_count": null,
      "metadata": {
        "id": "g5Q03kqIZrCz",
        "outputId": "8ba6b73f-61b2-4fed-d04a-b98e2c612134"
      },
      "outputs": [
        {
          "output_type": "stream",
          "name": "stdout",
          "text": [
            "x    0.775765\ny   -1.189414\nz    1.162056\ndtype: float64\nx   -0.419302\ny   -1.189414\nz   -0.685104\ndtype: float64\n"
          ]
        }
      ],
      "source": [
        "df_test = pd.read_csv(\"test_time_series.csv\", index_col=0) # now we will import the new test data as another pandas dataframe 'df_test,' and perform the standard cleanup rituals.\n",
        "df_test = df_test.replace([np.inf, -np.inf], np.nan)\n",
        "df_test = df_test.dropna(how=\"any\")\n",
        "\n",
        "print(df_test[continuous_covariates].skew())\n",
        "\n",
        "for covariate in ['x', 'z']:\n",
        "    df_test[covariate] = df_test[covariate].apply(lambda x: np.log10(2+x))\n",
        "\n",
        "print(df_test[continuous_covariates].skew())\n",
        "# I must transform the corresponding test data in exactly the same way, because I have used the transformed training data to train my models."
      ]
    },
    {
      "source": [
        "And now, for the final predictions..."
      ],
      "cell_type": "markdown",
      "metadata": {
        "id": "EFAHnprBZrCz"
      }
    },
    {
      "cell_type": "code",
      "execution_count": null,
      "metadata": {
        "collapsed": true,
        "id": "0Xu3TobKZrCz"
      },
      "outputs": [],
      "source": [
        "# finally, I will save my predictions in a new columns called 'label'\n",
        "df_test['label'] = forest_classifier.fit(covariates, classification_outcome).predict(df_test[all_covariates])"
      ]
    },
    {
      "source": [
        "We cannot test our predictions yet with the given input files. However, we can save our predictions in another file for future reference. We will import the 'test_labels.csv' file, store the labels for the corresponding rows and save it finally as 'test_labels_complete.csv'"
      ],
      "cell_type": "markdown",
      "metadata": {
        "id": "UNwlzoHcZrCz"
      }
    },
    {
      "cell_type": "code",
      "execution_count": null,
      "metadata": {
        "id": "utEBWHE_ZrC0",
        "outputId": "70aeb048-bb07-4f0f-a013-848ffb6f49a8"
      },
      "outputs": [
        {
          "output_type": "stream",
          "name": "stdout",
          "text": [
            "3.5026207\n"
          ]
        }
      ],
      "source": [
        "# and then save the 'test_labels.csv' file as a new file 'test_labels_complete.csv', with the labels column filled in.\n",
        "df_test_labels = pd.read_csv(\"test_labels.csv\", index_col=0)\n",
        "df_test_labels['label'] = df_test['label']\n",
        "\n",
        "df_test_labels.to_csv(\"test_labels_complete.csv\", encoding='utf-8') # note: if you want to read in this csv file in python, make sure to use the encoding parameter exactly as on this line.\n",
        "end_time = time.clock()\n",
        "print(end_time - start_time) # this line will give you the program runtime in seconds."
      ]
    },
    {
      "source": [
        "As it so happens, the runtime for the code is around 3.50 seconds."
      ],
      "cell_type": "markdown",
      "metadata": {
        "id": "V6GCueGKZrC0"
      }
    },
    {
      "cell_type": "markdown",
      "metadata": {
        "id": "XyKDvBtxZrC0"
      },
      "source": [
        "## Results:\n",
        "Finally, upon testing the accuracy of the predicted labels on the edX website, I obtained a score of around 41.6%.\n",
        "\n",
        "## Conclusion:\n",
        "This is an unusually low score, and it may be the result of an error in my work; perhaps the method I have implemented is overfitting the training data somehow (because as we can see from the plot, atleast the model performs well on the training data)."
      ]
    }
  ],
  "metadata": {
    "interpreter": {
      "hash": "55eb667be30af22df764d02bf451424f67f097247c4e5547f67f370bfb5ecf53"
    },
    "kernelspec": {
      "name": "python3",
      "display_name": "Python 3.6.1 64-bit"
    },
    "language_info": {
      "codemirror_mode": {
        "name": "ipython",
        "version": 3
      },
      "file_extension": ".py",
      "mimetype": "text/x-python",
      "name": "python",
      "nbconvert_exporter": "python",
      "pygments_lexer": "ipython3",
      "version": "3.6.1"
    },
    "colab": {
      "name": "final-project.ipynb",
      "provenance": []
    }
  },
  "nbformat": 4,
  "nbformat_minor": 0
}